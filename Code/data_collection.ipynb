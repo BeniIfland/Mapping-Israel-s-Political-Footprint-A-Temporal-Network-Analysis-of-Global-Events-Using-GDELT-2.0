{
  "cells": [
    {
      "cell_type": "code",
      "source": [
        "!pip install pycountry"
      ],
      "metadata": {
        "colab": {
          "base_uri": "https://localhost:8080/"
        },
        "id": "99FeGbETxOSw",
        "outputId": "335870e9-a13e-4feb-9e73-16e6cae1bd57"
      },
      "execution_count": 1,
      "outputs": [
        {
          "output_type": "stream",
          "name": "stdout",
          "text": [
            "Collecting pycountry\n",
            "  Downloading pycountry-24.6.1-py3-none-any.whl.metadata (12 kB)\n",
            "Downloading pycountry-24.6.1-py3-none-any.whl (6.3 MB)\n",
            "\u001b[2K   \u001b[90m━━━━━━━━━━━━━━━━━━━━━━━━━━━━━━━━━━━━━━━━\u001b[0m \u001b[32m6.3/6.3 MB\u001b[0m \u001b[31m44.8 MB/s\u001b[0m eta \u001b[36m0:00:00\u001b[0m\n",
            "\u001b[?25hInstalling collected packages: pycountry\n",
            "Successfully installed pycountry-24.6.1\n"
          ]
        }
      ]
    },
    {
      "cell_type": "code",
      "source": [
        "!pip install python-louvain"
      ],
      "metadata": {
        "colab": {
          "base_uri": "https://localhost:8080/"
        },
        "id": "Vqe_9ZYPKTX4",
        "outputId": "a32de1dc-a4ff-49e8-bcb2-aa3334932db7"
      },
      "execution_count": 2,
      "outputs": [
        {
          "output_type": "stream",
          "name": "stdout",
          "text": [
            "Requirement already satisfied: python-louvain in /usr/local/lib/python3.11/dist-packages (0.16)\n",
            "Requirement already satisfied: networkx in /usr/local/lib/python3.11/dist-packages (from python-louvain) (3.5)\n",
            "Requirement already satisfied: numpy in /usr/local/lib/python3.11/dist-packages (from python-louvain) (2.0.2)\n"
          ]
        }
      ]
    },
    {
      "cell_type": "markdown",
      "metadata": {
        "id": "ehHxkosr-M-Z"
      },
      "source": [
        "Imports"
      ]
    },
    {
      "cell_type": "code",
      "execution_count": 3,
      "metadata": {
        "id": "hSqIErgJ-MUy",
        "colab": {
          "base_uri": "https://localhost:8080/"
        },
        "outputId": "f78b2a09-8d23-489e-e57a-7911779ad388"
      },
      "outputs": [
        {
          "output_type": "stream",
          "name": "stdout",
          "text": [
            "Mounted at /content/drive\n"
          ]
        }
      ],
      "source": [
        "import pandas as pd\n",
        "import zipfile\n",
        "import io\n",
        "import pickle\n",
        "from scipy.stats import spearmanr\n",
        "import pycountry\n",
        "import requests\n",
        "from matplotlib import cm\n",
        "import community as community_louvain\n",
        "from datetime import datetime, timedelta\n",
        "from tqdm import tqdm\n",
        "import plotly.express as px\n",
        "import os\n",
        "import networkx as nx\n",
        "import matplotlib.pyplot as plt\n",
        "from collections import defaultdict\n",
        "import seaborn as sns\n",
        "import glob\n",
        "import plotly.graph_objects as go\n",
        "from google.colab import drive\n",
        "import dask.dataframe as dd\n",
        "import community as community_louvain\n",
        "import community.community_louvain as community_louvain\n",
        "drive.mount('/content/drive')\n",
        "pd.set_option('display.max_columns', None)  # Show all columns\n",
        "# pd.reset_option('display.max_columns')"
      ]
    },
    {
      "cell_type": "markdown",
      "source": [
        "###Global:"
      ],
      "metadata": {
        "id": "fW196ROy81Zo"
      }
    },
    {
      "cell_type": "code",
      "execution_count": 4,
      "metadata": {
        "collapsed": true,
        "id": "gX7lY39JQAZR"
      },
      "outputs": [],
      "source": [
        "# url = \"https://www.gdeltproject.org/data/lookups/CSV.header.dailyupdates.txt\"\n",
        "# headers = requests.get(url).text.strip().split('\\t')\n",
        "# headers"
      ]
    },
    {
      "cell_type": "code",
      "execution_count": 5,
      "metadata": {
        "id": "Z8u-Zhu2vU0I"
      },
      "outputs": [],
      "source": [
        "#fixing columns mismatch - there is one attribute missing 3 times (Actor1Geo_ADM2Code., Actor2Geo_ADM2Code.,ActionGeo_ADM2Code.)\n",
        "headers = ['GLOBALEVENTID',\n",
        " 'SQLDATE',\n",
        " 'MonthYear',\n",
        " 'Year',\n",
        " 'FractionDate',\n",
        " 'Actor1Code',\n",
        " 'Actor1Name',\n",
        " 'Actor1CountryCode',\n",
        " 'Actor1KnownGroupCode',\n",
        " 'Actor1EthnicCode',\n",
        " 'Actor1Religion1Code',\n",
        " 'Actor1Religion2Code',\n",
        " 'Actor1Type1Code',\n",
        " 'Actor1Type2Code',\n",
        " 'Actor1Type3Code',\n",
        " 'Actor2Code',\n",
        " 'Actor2Name',\n",
        " 'Actor2CountryCode',\n",
        " 'Actor2KnownGroupCode',\n",
        " 'Actor2EthnicCode',\n",
        " 'Actor2Religion1Code',\n",
        " 'Actor2Religion2Code',\n",
        " 'Actor2Type1Code',\n",
        " 'Actor2Type2Code',\n",
        " 'Actor2Type3Code',\n",
        " 'IsRootEvent',\n",
        " 'EventCode',\n",
        " 'EventBaseCode',\n",
        " 'EventRootCode',\n",
        " 'QuadClass',\n",
        " 'GoldsteinScale',\n",
        " 'NumMentions',\n",
        " 'NumSources',\n",
        " 'NumArticles',\n",
        " 'AvgTone',\n",
        " 'Actor1Geo_Type',\n",
        " 'Actor1Geo_FullName',\n",
        " 'Actor1Geo_CountryCode',\n",
        " 'Actor1Geo_ADM1Code',\n",
        " 'Actor1Geo_ADM2Code',\n",
        " 'Actor1Geo_Lat',\n",
        " 'Actor1Geo_Long',\n",
        " 'Actor1Geo_FeatureID',\n",
        " 'Actor2Geo_Type',\n",
        " 'Actor2Geo_FullName',\n",
        " 'Actor2Geo_CountryCode',\n",
        " 'Actor2Geo_ADM1Code',\n",
        " 'Actor2Geo_ADM2Code',\n",
        " 'Actor2Geo_Lat',\n",
        " 'Actor2Geo_Long',\n",
        " 'Actor2Geo_FeatureID',\n",
        " 'ActionGeo_Type',\n",
        " 'ActionGeo_FullName',\n",
        " 'ActionGeo_CountryCode',\n",
        " 'ActionGeo_ADM1Code',\n",
        " 'ActionGeo_ADM2Code',\n",
        " 'ActionGeo_Lat',\n",
        " 'ActionGeo_Long',\n",
        " 'ActionGeo_FeatureID',\n",
        " 'DATEADDED',\n",
        " 'SOURCEURL']"
      ]
    },
    {
      "cell_type": "code",
      "execution_count": 6,
      "metadata": {
        "id": "YqvuV7NoAFtm"
      },
      "outputs": [],
      "source": [
        "# Israeli name variants\n",
        "ISRAEL_VARIANTS = set([\n",
        "    'israel', 'the state of israel', 'state of israel',\n",
        "    'israeli', 'israeli government', 'israeli military',\n",
        "    'jerusalem', 'tel aviv', 'isr', 'idf'])"
      ]
    },
    {
      "cell_type": "code",
      "source": [
        "signif_columns = [\n",
        " 'SQLDATE',\n",
        " 'Actor1Code',\n",
        " 'Actor1Name',\n",
        " 'Actor1CountryCode',\n",
        " 'Actor2Code',\n",
        " 'Actor2Name',\n",
        " 'Actor2CountryCode',\n",
        " 'IsRootEvent',\n",
        " 'EventCode',\n",
        " 'EventBaseCode',\n",
        " 'EventRootCode',\n",
        " 'QuadClass',\n",
        " 'GoldsteinScale',\n",
        " 'NumMentions',\n",
        " 'NumSources',\n",
        " 'NumArticles',\n",
        " 'AvgTone',\n",
        " 'ActionGeo_FullName',\n",
        " 'ActionGeo_CountryCode',\n",
        " 'DATEADDED',\n",
        " 'SOURCEURL']"
      ],
      "metadata": {
        "id": "C5yUc8FER3wN"
      },
      "execution_count": 7,
      "outputs": []
    },
    {
      "cell_type": "markdown",
      "metadata": {
        "id": "dGS_0S169Sb0"
      },
      "source": [
        "## Data collection and preprocessing"
      ]
    },
    {
      "cell_type": "code",
      "execution_count": null,
      "metadata": {
        "colab": {
          "base_uri": "https://localhost:8080/"
        },
        "id": "_0Mx4KqdxG9Q",
        "collapsed": true,
        "outputId": "858fd619-4c53-41c8-e4a2-1a9f7631876e"
      },
      "outputs": [
        {
          "output_type": "error",
          "ename": "HTTPError",
          "evalue": "403 Client Error: Forbidden for url: http://data.gdeltproject.org/gdeltv2/masterfilelist.txt",
          "traceback": [
            "\u001b[0;31m---------------------------------------------------------------------------\u001b[0m",
            "\u001b[0;31mHTTPError\u001b[0m                                 Traceback (most recent call last)",
            "\u001b[0;32m<ipython-input-5-344327083>\u001b[0m in \u001b[0;36m<cell line: 0>\u001b[0;34m()\u001b[0m\n\u001b[1;32m      2\u001b[0m \u001b[0murl\u001b[0m \u001b[0;34m=\u001b[0m \u001b[0;34m\"http://data.gdeltproject.org/gdeltv2/masterfilelist.txt\"\u001b[0m\u001b[0;34m\u001b[0m\u001b[0;34m\u001b[0m\u001b[0m\n\u001b[1;32m      3\u001b[0m \u001b[0mresponse\u001b[0m \u001b[0;34m=\u001b[0m \u001b[0mrequests\u001b[0m\u001b[0;34m.\u001b[0m\u001b[0mget\u001b[0m\u001b[0;34m(\u001b[0m\u001b[0murl\u001b[0m\u001b[0;34m,\u001b[0m \u001b[0mtimeout\u001b[0m\u001b[0;34m=\u001b[0m\u001b[0;36m10\u001b[0m\u001b[0;34m)\u001b[0m\u001b[0;34m\u001b[0m\u001b[0;34m\u001b[0m\u001b[0m\n\u001b[0;32m----> 4\u001b[0;31m \u001b[0mresponse\u001b[0m\u001b[0;34m.\u001b[0m\u001b[0mraise_for_status\u001b[0m\u001b[0;34m(\u001b[0m\u001b[0;34m)\u001b[0m\u001b[0;34m\u001b[0m\u001b[0;34m\u001b[0m\u001b[0m\n\u001b[0m",
            "\u001b[0;32m/usr/local/lib/python3.11/dist-packages/requests/models.py\u001b[0m in \u001b[0;36mraise_for_status\u001b[0;34m(self)\u001b[0m\n\u001b[1;32m   1022\u001b[0m \u001b[0;34m\u001b[0m\u001b[0m\n\u001b[1;32m   1023\u001b[0m         \u001b[0;32mif\u001b[0m \u001b[0mhttp_error_msg\u001b[0m\u001b[0;34m:\u001b[0m\u001b[0;34m\u001b[0m\u001b[0;34m\u001b[0m\u001b[0m\n\u001b[0;32m-> 1024\u001b[0;31m             \u001b[0;32mraise\u001b[0m \u001b[0mHTTPError\u001b[0m\u001b[0;34m(\u001b[0m\u001b[0mhttp_error_msg\u001b[0m\u001b[0;34m,\u001b[0m \u001b[0mresponse\u001b[0m\u001b[0;34m=\u001b[0m\u001b[0mself\u001b[0m\u001b[0;34m)\u001b[0m\u001b[0;34m\u001b[0m\u001b[0;34m\u001b[0m\u001b[0m\n\u001b[0m\u001b[1;32m   1025\u001b[0m \u001b[0;34m\u001b[0m\u001b[0m\n\u001b[1;32m   1026\u001b[0m     \u001b[0;32mdef\u001b[0m \u001b[0mclose\u001b[0m\u001b[0;34m(\u001b[0m\u001b[0mself\u001b[0m\u001b[0;34m)\u001b[0m\u001b[0;34m:\u001b[0m\u001b[0;34m\u001b[0m\u001b[0;34m\u001b[0m\u001b[0m\n",
            "\u001b[0;31mHTTPError\u001b[0m: 403 Client Error: Forbidden for url: http://data.gdeltproject.org/gdeltv2/masterfilelist.txt"
          ]
        }
      ],
      "source": [
        "#Extracting GDELT's raw files links\n",
        "url = \"http://data.gdeltproject.org/gdeltv2/masterfilelist.txt\"\n",
        "response = requests.get(url, timeout=10)\n",
        "response.raise_for_status()"
      ]
    },
    {
      "cell_type": "code",
      "source": [
        "#Filtering according to dates:\n",
        "#Set date range\n",
        "start_date = datetime(2023, 10, 7)\n",
        "end_date = datetime.today()\n",
        "\n",
        "filtered_urls = []\n",
        "bad_lines = []\n",
        "lines = response.text.splitlines()\n",
        "for line in lines:\n",
        "    parts = line.strip().split()\n",
        "    if len(parts) != 3:\n",
        "        continue\n",
        "\n",
        "    url = parts[2]\n",
        "    try:\n",
        "        # Extract timestamp from filename\n",
        "        filename = url.split(\"/\")[-1]\n",
        "        timestamp_str = filename.split(\".\")[0]  # e.g. 20231007120000\n",
        "        file_datetime = datetime.strptime(timestamp_str, \"%Y%m%d%H%M%S\")\n",
        "\n",
        "        # Check if in range\n",
        "        if start_date <= file_datetime <= end_date and url.endswith(\"export.CSV.zip\"):\n",
        "            filtered_urls.append(url)\n",
        "    except Exception:\n",
        "      print(f\"Problem with parsing url: {url}\")\n",
        "len(filtered_urls)"
      ],
      "metadata": {
        "colab": {
          "base_uri": "https://localhost:8080/"
        },
        "id": "6pe7PfVA0zan",
        "outputId": "50f31317-8ba7-4543-cb2f-3e15d7f0636f"
      },
      "execution_count": null,
      "outputs": [
        {
          "output_type": "execute_result",
          "data": {
            "text/plain": [
              "58976"
            ]
          },
          "metadata": {},
          "execution_count": 71
        }
      ]
    },
    {
      "cell_type": "code",
      "source": [
        "output_dir = \"/content/drive/MyDrive/Miki/GDELT2_Data_post_7th\""
      ],
      "metadata": {
        "colab": {
          "base_uri": "https://localhost:8080/"
        },
        "id": "FvEtQB2f983a",
        "outputId": "d2af80df-07e0-42bb-d8b5-84d7ca702958"
      },
      "execution_count": null,
      "outputs": [
        {
          "output_type": "stream",
          "name": "stdout",
          "text": [
            "Mounted at /content/drive\n"
          ]
        }
      ]
    },
    {
      "cell_type": "code",
      "source": [
        "processed_log = \"processed.txt\"\n",
        "processed_urls = set()\n",
        "\n",
        "if os.path.exists(processed_log):\n",
        "    with open(processed_log, \"r\") as f:\n",
        "        processed_urls = set(line.strip() for line in f if line.strip())\n",
        "for file_url in tqdm(filtered_urls, desc=\"Processing files\"):\n",
        "    if file_url in processed_urls:\n",
        "        continue  # Skip already processed\n",
        "    try:\n",
        "\n",
        "        r = requests.get(file_url, timeout=30)\n",
        "        r.raise_for_status()\n",
        "\n",
        "        # Unzip the content in memory\n",
        "        with zipfile.ZipFile(io.BytesIO(r.content)) as z:\n",
        "            for filename in z.namelist():\n",
        "                with z.open(filename) as f:\n",
        "                    df = pd.read_csv(f,names = headers, sep='\\t', encoding='ISO-8859-1', dtype=str,low_memory=False)\n",
        "\n",
        "                    ts = file_url.split(\"/\")[-1].split(\".\")[0]\n",
        "                    df.to_parquet(f\"{output_dir}/{ts}.parquet\")\n",
        "                    # Log success\n",
        "                    with open(processed_log, \"a\") as logf:\n",
        "                        logf.write(file_url + \"\\n\")\n",
        "\n",
        "    except Exception as e:\n",
        "        print(f\"Failed to process {file_url}: {e}\")\n"
      ],
      "metadata": {
        "colab": {
          "base_uri": "https://localhost:8080/"
        },
        "collapsed": true,
        "id": "sJ5-zbOw-55P",
        "outputId": "7cdd8147-de53-4335-a354-a3060ba4c154"
      },
      "execution_count": null,
      "outputs": [
        {
          "output_type": "stream",
          "name": "stderr",
          "text": [
            "Processing files:  85%|████████▍ | 50087/58976 [5:37:19<4:40:19,  1.89s/it]"
          ]
        },
        {
          "output_type": "stream",
          "name": "stdout",
          "text": [
            "Failed to process http://data.gdeltproject.org/gdeltv2/20250311194500.export.CSV.zip: 500 Server Error: Internal Server Error for url: http://data.gdeltproject.org/gdeltv2/20250311194500.export.CSV.zip\n"
          ]
        },
        {
          "output_type": "stream",
          "name": "stderr",
          "text": [
            "Processing files:  85%|████████▍ | 50091/58976 [5:37:25<5:32:13,  2.24s/it]"
          ]
        },
        {
          "output_type": "stream",
          "name": "stdout",
          "text": [
            "Failed to process http://data.gdeltproject.org/gdeltv2/20250311204500.export.CSV.zip: 500 Server Error: Internal Server Error for url: http://data.gdeltproject.org/gdeltv2/20250311204500.export.CSV.zip\n"
          ]
        },
        {
          "output_type": "stream",
          "name": "stderr",
          "text": [
            "Processing files:  85%|████████▍ | 50093/58976 [5:37:33<8:00:58,  3.25s/it]"
          ]
        },
        {
          "output_type": "stream",
          "name": "stdout",
          "text": [
            "Failed to process http://data.gdeltproject.org/gdeltv2/20250311211500.export.CSV.zip: 500 Server Error: Internal Server Error for url: http://data.gdeltproject.org/gdeltv2/20250311211500.export.CSV.zip\n"
          ]
        },
        {
          "output_type": "stream",
          "name": "stderr",
          "text": [
            "Processing files:  85%|████████▍ | 50123/58976 [5:38:20<5:57:11,  2.42s/it]"
          ]
        },
        {
          "output_type": "stream",
          "name": "stdout",
          "text": [
            "Failed to process http://data.gdeltproject.org/gdeltv2/20250312044500.export.CSV.zip: 500 Server Error: Internal Server Error for url: http://data.gdeltproject.org/gdeltv2/20250312044500.export.CSV.zip\n"
          ]
        },
        {
          "output_type": "stream",
          "name": "stderr",
          "text": [
            "\rProcessing files:  85%|████████▍ | 50124/58976 [5:38:25<7:58:37,  3.24s/it]"
          ]
        },
        {
          "output_type": "stream",
          "name": "stdout",
          "text": [
            "Failed to process http://data.gdeltproject.org/gdeltv2/20250312050000.export.CSV.zip: 500 Server Error: Internal Server Error for url: http://data.gdeltproject.org/gdeltv2/20250312050000.export.CSV.zip\n"
          ]
        },
        {
          "output_type": "stream",
          "name": "stderr",
          "text": [
            "\rProcessing files:  85%|████████▍ | 50125/58976 [5:38:30<9:24:22,  3.83s/it]"
          ]
        },
        {
          "output_type": "stream",
          "name": "stdout",
          "text": [
            "Failed to process http://data.gdeltproject.org/gdeltv2/20250312051500.export.CSV.zip: 500 Server Error: Internal Server Error for url: http://data.gdeltproject.org/gdeltv2/20250312051500.export.CSV.zip\n"
          ]
        },
        {
          "output_type": "stream",
          "name": "stderr",
          "text": [
            "Processing files:  85%|████████▍ | 50128/58976 [5:38:43<10:24:43,  4.24s/it]"
          ]
        },
        {
          "output_type": "stream",
          "name": "stdout",
          "text": [
            "Failed to process http://data.gdeltproject.org/gdeltv2/20250312060000.export.CSV.zip: 500 Server Error: Internal Server Error for url: http://data.gdeltproject.org/gdeltv2/20250312060000.export.CSV.zip\n"
          ]
        },
        {
          "output_type": "stream",
          "name": "stderr",
          "text": [
            "Processing files:  85%|████████▌ | 50134/58976 [5:38:53<6:01:28,  2.45s/it]"
          ]
        },
        {
          "output_type": "stream",
          "name": "stdout",
          "text": [
            "Failed to process http://data.gdeltproject.org/gdeltv2/20250312073000.export.CSV.zip: 500 Server Error: Internal Server Error for url: http://data.gdeltproject.org/gdeltv2/20250312073000.export.CSV.zip\n"
          ]
        },
        {
          "output_type": "stream",
          "name": "stderr",
          "text": [
            "Processing files:  85%|████████▌ | 50137/58976 [5:38:59<6:19:24,  2.58s/it]"
          ]
        },
        {
          "output_type": "stream",
          "name": "stdout",
          "text": [
            "Failed to process http://data.gdeltproject.org/gdeltv2/20250312081500.export.CSV.zip: 500 Server Error: Internal Server Error for url: http://data.gdeltproject.org/gdeltv2/20250312081500.export.CSV.zip\n"
          ]
        },
        {
          "output_type": "stream",
          "name": "stderr",
          "text": [
            "Processing files:  85%|████████▌ | 50140/58976 [5:39:07<7:26:52,  3.03s/it]"
          ]
        },
        {
          "output_type": "stream",
          "name": "stdout",
          "text": [
            "Failed to process http://data.gdeltproject.org/gdeltv2/20250312090000.export.CSV.zip: 500 Server Error: Internal Server Error for url: http://data.gdeltproject.org/gdeltv2/20250312090000.export.CSV.zip\n"
          ]
        },
        {
          "output_type": "stream",
          "name": "stderr",
          "text": [
            "Processing files:  85%|████████▌ | 50148/58976 [5:39:17<5:20:41,  2.18s/it]"
          ]
        },
        {
          "output_type": "stream",
          "name": "stdout",
          "text": [
            "Failed to process http://data.gdeltproject.org/gdeltv2/20250312110000.export.CSV.zip: 500 Server Error: Internal Server Error for url: http://data.gdeltproject.org/gdeltv2/20250312110000.export.CSV.zip\n"
          ]
        },
        {
          "output_type": "stream",
          "name": "stderr",
          "text": [
            "Processing files:  85%|████████▌ | 50156/58976 [5:39:40<8:54:45,  3.64s/it]"
          ]
        },
        {
          "output_type": "stream",
          "name": "stdout",
          "text": [
            "Failed to process http://data.gdeltproject.org/gdeltv2/20250312130000.export.CSV.zip: 500 Server Error: Internal Server Error for url: http://data.gdeltproject.org/gdeltv2/20250312130000.export.CSV.zip\n"
          ]
        },
        {
          "output_type": "stream",
          "name": "stderr",
          "text": [
            "Processing files:  85%|████████▌ | 50163/58976 [5:39:58<7:11:07,  2.94s/it]"
          ]
        },
        {
          "output_type": "stream",
          "name": "stdout",
          "text": [
            "Failed to process http://data.gdeltproject.org/gdeltv2/20250312144500.export.CSV.zip: 500 Server Error: Internal Server Error for url: http://data.gdeltproject.org/gdeltv2/20250312144500.export.CSV.zip\n"
          ]
        },
        {
          "output_type": "stream",
          "name": "stderr",
          "text": [
            "Processing files:  85%|████████▌ | 50170/58976 [5:40:15<6:48:01,  2.78s/it]"
          ]
        },
        {
          "output_type": "stream",
          "name": "stdout",
          "text": [
            "Failed to process http://data.gdeltproject.org/gdeltv2/20250312163000.export.CSV.zip: 500 Server Error: Internal Server Error for url: http://data.gdeltproject.org/gdeltv2/20250312163000.export.CSV.zip\n"
          ]
        },
        {
          "output_type": "stream",
          "name": "stderr",
          "text": [
            "Processing files:  85%|████████▌ | 50176/58976 [5:40:30<7:45:15,  3.17s/it]"
          ]
        },
        {
          "output_type": "stream",
          "name": "stdout",
          "text": [
            "Failed to process http://data.gdeltproject.org/gdeltv2/20250312180000.export.CSV.zip: 500 Server Error: Internal Server Error for url: http://data.gdeltproject.org/gdeltv2/20250312180000.export.CSV.zip\n"
          ]
        },
        {
          "output_type": "stream",
          "name": "stderr",
          "text": [
            "Processing files:  85%|████████▌ | 50190/58976 [5:40:54<5:57:22,  2.44s/it]"
          ]
        },
        {
          "output_type": "stream",
          "name": "stdout",
          "text": [
            "Failed to process http://data.gdeltproject.org/gdeltv2/20250312213000.export.CSV.zip: 500 Server Error: Internal Server Error for url: http://data.gdeltproject.org/gdeltv2/20250312213000.export.CSV.zip\n"
          ]
        },
        {
          "output_type": "stream",
          "name": "stderr",
          "text": [
            "Processing files:  85%|████████▌ | 50195/58976 [5:41:01<5:23:53,  2.21s/it]"
          ]
        },
        {
          "output_type": "stream",
          "name": "stdout",
          "text": [
            "Failed to process http://data.gdeltproject.org/gdeltv2/20250312224500.export.CSV.zip: 500 Server Error: Internal Server Error for url: http://data.gdeltproject.org/gdeltv2/20250312224500.export.CSV.zip\n"
          ]
        },
        {
          "output_type": "stream",
          "name": "stderr",
          "text": [
            "Processing files:  85%|████████▌ | 50199/58976 [5:41:08<5:41:06,  2.33s/it]"
          ]
        },
        {
          "output_type": "stream",
          "name": "stdout",
          "text": [
            "Failed to process http://data.gdeltproject.org/gdeltv2/20250312234500.export.CSV.zip: 500 Server Error: Internal Server Error for url: http://data.gdeltproject.org/gdeltv2/20250312234500.export.CSV.zip\n"
          ]
        },
        {
          "output_type": "stream",
          "name": "stderr",
          "text": [
            "Processing files:  85%|████████▌ | 50214/58976 [5:41:42<6:21:47,  2.61s/it]"
          ]
        },
        {
          "output_type": "stream",
          "name": "stdout",
          "text": [
            "Failed to process http://data.gdeltproject.org/gdeltv2/20250313033000.export.CSV.zip: 500 Server Error: Internal Server Error for url: http://data.gdeltproject.org/gdeltv2/20250313033000.export.CSV.zip\n"
          ]
        },
        {
          "output_type": "stream",
          "name": "stderr",
          "text": [
            "\rProcessing files:  85%|████████▌ | 50215/58976 [5:41:47<8:17:09,  3.40s/it]"
          ]
        },
        {
          "output_type": "stream",
          "name": "stdout",
          "text": [
            "Failed to process http://data.gdeltproject.org/gdeltv2/20250313034500.export.CSV.zip: 500 Server Error: Internal Server Error for url: http://data.gdeltproject.org/gdeltv2/20250313034500.export.CSV.zip\n"
          ]
        },
        {
          "output_type": "stream",
          "name": "stderr",
          "text": [
            "Processing files:  85%|████████▌ | 50226/58976 [5:42:07<5:47:51,  2.39s/it]"
          ]
        },
        {
          "output_type": "stream",
          "name": "stdout",
          "text": [
            "Failed to process http://data.gdeltproject.org/gdeltv2/20250313063000.export.CSV.zip: 500 Server Error: Internal Server Error for url: http://data.gdeltproject.org/gdeltv2/20250313063000.export.CSV.zip\n"
          ]
        },
        {
          "output_type": "stream",
          "name": "stderr",
          "text": [
            "Processing files:  85%|████████▌ | 50235/58976 [5:42:26<5:53:01,  2.42s/it]"
          ]
        },
        {
          "output_type": "stream",
          "name": "stdout",
          "text": [
            "Failed to process http://data.gdeltproject.org/gdeltv2/20250313084500.export.CSV.zip: 500 Server Error: Internal Server Error for url: http://data.gdeltproject.org/gdeltv2/20250313084500.export.CSV.zip\n"
          ]
        },
        {
          "output_type": "stream",
          "name": "stderr",
          "text": [
            "Processing files:  85%|████████▌ | 50245/58976 [5:42:47<6:58:42,  2.88s/it]"
          ]
        },
        {
          "output_type": "stream",
          "name": "stdout",
          "text": [
            "Failed to process http://data.gdeltproject.org/gdeltv2/20250313111500.export.CSV.zip: 500 Server Error: Internal Server Error for url: http://data.gdeltproject.org/gdeltv2/20250313111500.export.CSV.zip\n"
          ]
        },
        {
          "output_type": "stream",
          "name": "stderr",
          "text": [
            "\rProcessing files:  85%|████████▌ | 50246/58976 [5:42:52<8:39:52,  3.57s/it]"
          ]
        },
        {
          "output_type": "stream",
          "name": "stdout",
          "text": [
            "Failed to process http://data.gdeltproject.org/gdeltv2/20250313113000.export.CSV.zip: 500 Server Error: Internal Server Error for url: http://data.gdeltproject.org/gdeltv2/20250313113000.export.CSV.zip\n"
          ]
        },
        {
          "output_type": "stream",
          "name": "stderr",
          "text": [
            "Processing files:  85%|████████▌ | 50248/58976 [5:42:59<8:45:33,  3.61s/it]"
          ]
        },
        {
          "output_type": "stream",
          "name": "stdout",
          "text": [
            "Failed to process http://data.gdeltproject.org/gdeltv2/20250313120000.export.CSV.zip: 500 Server Error: Internal Server Error for url: http://data.gdeltproject.org/gdeltv2/20250313120000.export.CSV.zip\n"
          ]
        },
        {
          "output_type": "stream",
          "name": "stderr",
          "text": [
            "Processing files:  85%|████████▌ | 50251/58976 [5:43:08<8:49:08,  3.64s/it]"
          ]
        },
        {
          "output_type": "stream",
          "name": "stdout",
          "text": [
            "Failed to process http://data.gdeltproject.org/gdeltv2/20250313124500.export.CSV.zip: 500 Server Error: Internal Server Error for url: http://data.gdeltproject.org/gdeltv2/20250313124500.export.CSV.zip\n"
          ]
        },
        {
          "output_type": "stream",
          "name": "stderr",
          "text": [
            "Processing files:  85%|████████▌ | 50257/58976 [5:43:20<7:09:41,  2.96s/it]"
          ]
        },
        {
          "output_type": "stream",
          "name": "stdout",
          "text": [
            "Failed to process http://data.gdeltproject.org/gdeltv2/20250313141500.export.CSV.zip: 500 Server Error: Internal Server Error for url: http://data.gdeltproject.org/gdeltv2/20250313141500.export.CSV.zip\n"
          ]
        },
        {
          "output_type": "stream",
          "name": "stderr",
          "text": [
            "Processing files:  85%|████████▌ | 50272/58976 [5:43:50<6:17:06,  2.60s/it]"
          ]
        },
        {
          "output_type": "stream",
          "name": "stdout",
          "text": [
            "Failed to process http://data.gdeltproject.org/gdeltv2/20250313180000.export.CSV.zip: 500 Server Error: Internal Server Error for url: http://data.gdeltproject.org/gdeltv2/20250313180000.export.CSV.zip\n"
          ]
        },
        {
          "output_type": "stream",
          "name": "stderr",
          "text": [
            "Processing files:  85%|████████▌ | 50274/58976 [5:43:56<7:18:44,  3.03s/it]"
          ]
        },
        {
          "output_type": "stream",
          "name": "stdout",
          "text": [
            "Failed to process http://data.gdeltproject.org/gdeltv2/20250313183000.export.CSV.zip: 500 Server Error: Internal Server Error for url: http://data.gdeltproject.org/gdeltv2/20250313183000.export.CSV.zip\n"
          ]
        },
        {
          "output_type": "stream",
          "name": "stderr",
          "text": [
            "Processing files:  85%|████████▌ | 50288/58976 [5:44:29<6:27:00,  2.67s/it]"
          ]
        },
        {
          "output_type": "stream",
          "name": "stdout",
          "text": [
            "Failed to process http://data.gdeltproject.org/gdeltv2/20250313220000.export.CSV.zip: 500 Server Error: Internal Server Error for url: http://data.gdeltproject.org/gdeltv2/20250313220000.export.CSV.zip\n"
          ]
        },
        {
          "output_type": "stream",
          "name": "stderr",
          "text": [
            "Processing files:  85%|████████▌ | 50299/58976 [5:44:44<6:05:24,  2.53s/it]"
          ]
        },
        {
          "output_type": "stream",
          "name": "stdout",
          "text": [
            "Failed to process http://data.gdeltproject.org/gdeltv2/20250314004500.export.CSV.zip: 500 Server Error: Internal Server Error for url: http://data.gdeltproject.org/gdeltv2/20250314004500.export.CSV.zip\n"
          ]
        },
        {
          "output_type": "stream",
          "name": "stderr",
          "text": [
            "Processing files:  85%|████████▌ | 50312/58976 [5:45:17<8:18:21,  3.45s/it]"
          ]
        },
        {
          "output_type": "stream",
          "name": "stdout",
          "text": [
            "Failed to process http://data.gdeltproject.org/gdeltv2/20250314040000.export.CSV.zip: 500 Server Error: Internal Server Error for url: http://data.gdeltproject.org/gdeltv2/20250314040000.export.CSV.zip\n"
          ]
        },
        {
          "output_type": "stream",
          "name": "stderr",
          "text": [
            "Processing files:  85%|████████▌ | 50321/58976 [5:45:40<8:31:06,  3.54s/it]"
          ]
        },
        {
          "output_type": "stream",
          "name": "stdout",
          "text": [
            "Failed to process http://data.gdeltproject.org/gdeltv2/20250314061500.export.CSV.zip: 500 Server Error: Internal Server Error for url: http://data.gdeltproject.org/gdeltv2/20250314061500.export.CSV.zip\n"
          ]
        },
        {
          "output_type": "stream",
          "name": "stderr",
          "text": [
            "\rProcessing files:  85%|████████▌ | 50322/58976 [5:45:45<9:42:53,  4.04s/it]"
          ]
        },
        {
          "output_type": "stream",
          "name": "stdout",
          "text": [
            "Failed to process http://data.gdeltproject.org/gdeltv2/20250314063000.export.CSV.zip: 500 Server Error: Internal Server Error for url: http://data.gdeltproject.org/gdeltv2/20250314063000.export.CSV.zip\n"
          ]
        },
        {
          "output_type": "stream",
          "name": "stderr",
          "text": [
            "Processing files:  85%|████████▌ | 50341/58976 [5:46:13<6:02:42,  2.52s/it]"
          ]
        },
        {
          "output_type": "stream",
          "name": "stdout",
          "text": [
            "Failed to process http://data.gdeltproject.org/gdeltv2/20250314111500.export.CSV.zip: 500 Server Error: Internal Server Error for url: http://data.gdeltproject.org/gdeltv2/20250314111500.export.CSV.zip\n"
          ]
        },
        {
          "output_type": "stream",
          "name": "stderr",
          "text": [
            "Processing files:  85%|████████▌ | 50343/58976 [5:46:19<6:58:12,  2.91s/it]"
          ]
        },
        {
          "output_type": "stream",
          "name": "stdout",
          "text": [
            "Failed to process http://data.gdeltproject.org/gdeltv2/20250314114500.export.CSV.zip: 500 Server Error: Internal Server Error for url: http://data.gdeltproject.org/gdeltv2/20250314114500.export.CSV.zip\n"
          ]
        },
        {
          "output_type": "stream",
          "name": "stderr",
          "text": [
            "Processing files:  85%|████████▌ | 50349/58976 [5:46:29<5:56:42,  2.48s/it]"
          ]
        },
        {
          "output_type": "stream",
          "name": "stdout",
          "text": [
            "Failed to process http://data.gdeltproject.org/gdeltv2/20250314131500.export.CSV.zip: 500 Server Error: Internal Server Error for url: http://data.gdeltproject.org/gdeltv2/20250314131500.export.CSV.zip\n"
          ]
        },
        {
          "output_type": "stream",
          "name": "stderr",
          "text": [
            "Processing files:  85%|████████▌ | 50361/58976 [5:47:00<7:57:30,  3.33s/it]"
          ]
        },
        {
          "output_type": "stream",
          "name": "stdout",
          "text": [
            "Failed to process http://data.gdeltproject.org/gdeltv2/20250314161500.export.CSV.zip: 500 Server Error: Internal Server Error for url: http://data.gdeltproject.org/gdeltv2/20250314161500.export.CSV.zip\n"
          ]
        },
        {
          "output_type": "stream",
          "name": "stderr",
          "text": [
            "Processing files:  85%|████████▌ | 50371/58976 [5:47:21<7:42:04,  3.22s/it]"
          ]
        },
        {
          "output_type": "stream",
          "name": "stdout",
          "text": [
            "Failed to process http://data.gdeltproject.org/gdeltv2/20250314184500.export.CSV.zip: 500 Server Error: Internal Server Error for url: http://data.gdeltproject.org/gdeltv2/20250314184500.export.CSV.zip\n"
          ]
        },
        {
          "output_type": "stream",
          "name": "stderr",
          "text": [
            "Processing files:  85%|████████▌ | 50374/58976 [5:47:30<7:47:58,  3.26s/it]"
          ]
        },
        {
          "output_type": "stream",
          "name": "stdout",
          "text": [
            "Failed to process http://data.gdeltproject.org/gdeltv2/20250314193000.export.CSV.zip: 500 Server Error: Internal Server Error for url: http://data.gdeltproject.org/gdeltv2/20250314193000.export.CSV.zip\n"
          ]
        },
        {
          "output_type": "stream",
          "name": "stderr",
          "text": [
            "Processing files:  85%|████████▌ | 50383/58976 [5:47:49<6:34:27,  2.75s/it]"
          ]
        },
        {
          "output_type": "stream",
          "name": "stdout",
          "text": [
            "Failed to process http://data.gdeltproject.org/gdeltv2/20250314214500.export.CSV.zip: 500 Server Error: Internal Server Error for url: http://data.gdeltproject.org/gdeltv2/20250314214500.export.CSV.zip\n"
          ]
        },
        {
          "output_type": "stream",
          "name": "stderr",
          "text": [
            "Processing files:  85%|████████▌ | 50392/58976 [5:48:07<6:06:00,  2.56s/it]"
          ]
        },
        {
          "output_type": "stream",
          "name": "stdout",
          "text": [
            "Failed to process http://data.gdeltproject.org/gdeltv2/20250315000000.export.CSV.zip: 500 Server Error: Internal Server Error for url: http://data.gdeltproject.org/gdeltv2/20250315000000.export.CSV.zip\n"
          ]
        },
        {
          "output_type": "stream",
          "name": "stderr",
          "text": [
            "Processing files:  85%|████████▌ | 50394/58976 [5:48:16<8:48:36,  3.70s/it]"
          ]
        },
        {
          "output_type": "stream",
          "name": "stdout",
          "text": [
            "Failed to process http://data.gdeltproject.org/gdeltv2/20250315003000.export.CSV.zip: 500 Server Error: Internal Server Error for url: http://data.gdeltproject.org/gdeltv2/20250315003000.export.CSV.zip\n"
          ]
        },
        {
          "output_type": "stream",
          "name": "stderr",
          "text": [
            "Processing files:  85%|████████▌ | 50403/58976 [5:48:38<8:48:39,  3.70s/it]"
          ]
        },
        {
          "output_type": "stream",
          "name": "stdout",
          "text": [
            "Failed to process http://data.gdeltproject.org/gdeltv2/20250315024500.export.CSV.zip: 500 Server Error: Internal Server Error for url: http://data.gdeltproject.org/gdeltv2/20250315024500.export.CSV.zip\n"
          ]
        },
        {
          "output_type": "stream",
          "name": "stderr",
          "text": [
            "Processing files:  85%|████████▌ | 50414/58976 [5:48:52<5:04:20,  2.13s/it]"
          ]
        },
        {
          "output_type": "stream",
          "name": "stdout",
          "text": [
            "Failed to process http://data.gdeltproject.org/gdeltv2/20250315053000.export.CSV.zip: 500 Server Error: Internal Server Error for url: http://data.gdeltproject.org/gdeltv2/20250315053000.export.CSV.zip\n"
          ]
        },
        {
          "output_type": "stream",
          "name": "stderr",
          "text": [
            "Processing files:  86%|████████▌ | 50434/58976 [5:49:23<5:56:51,  2.51s/it]"
          ]
        },
        {
          "output_type": "stream",
          "name": "stdout",
          "text": [
            "Failed to process http://data.gdeltproject.org/gdeltv2/20250315103000.export.CSV.zip: 500 Server Error: Internal Server Error for url: http://data.gdeltproject.org/gdeltv2/20250315103000.export.CSV.zip\n"
          ]
        },
        {
          "output_type": "stream",
          "name": "stderr",
          "text": [
            "Processing files:  86%|████████▌ | 50438/58976 [5:49:32<6:08:20,  2.59s/it]"
          ]
        },
        {
          "output_type": "stream",
          "name": "stdout",
          "text": [
            "Failed to process http://data.gdeltproject.org/gdeltv2/20250315113000.export.CSV.zip: 500 Server Error: Internal Server Error for url: http://data.gdeltproject.org/gdeltv2/20250315113000.export.CSV.zip\n"
          ]
        },
        {
          "output_type": "stream",
          "name": "stderr",
          "text": [
            "Processing files:  86%|████████▌ | 50444/58976 [5:49:39<5:25:21,  2.29s/it]"
          ]
        },
        {
          "output_type": "stream",
          "name": "stdout",
          "text": [
            "Failed to process http://data.gdeltproject.org/gdeltv2/20250315130000.export.CSV.zip: 500 Server Error: Internal Server Error for url: http://data.gdeltproject.org/gdeltv2/20250315130000.export.CSV.zip\n"
          ]
        },
        {
          "output_type": "stream",
          "name": "stderr",
          "text": [
            "Processing files:  86%|████████▌ | 50461/58976 [5:50:13<5:10:22,  2.19s/it]"
          ]
        },
        {
          "output_type": "stream",
          "name": "stdout",
          "text": [
            "Failed to process http://data.gdeltproject.org/gdeltv2/20250315171500.export.CSV.zip: 500 Server Error: Internal Server Error for url: http://data.gdeltproject.org/gdeltv2/20250315171500.export.CSV.zip\n"
          ]
        },
        {
          "output_type": "stream",
          "name": "stderr",
          "text": [
            "Processing files:  86%|████████▌ | 50471/58976 [5:50:29<6:27:00,  2.73s/it]"
          ]
        },
        {
          "output_type": "stream",
          "name": "stdout",
          "text": [
            "Failed to process http://data.gdeltproject.org/gdeltv2/20250315194500.export.CSV.zip: 500 Server Error: Internal Server Error for url: http://data.gdeltproject.org/gdeltv2/20250315194500.export.CSV.zip\n"
          ]
        },
        {
          "output_type": "stream",
          "name": "stderr",
          "text": [
            "\rProcessing files:  86%|████████▌ | 50472/58976 [5:50:35<8:34:50,  3.63s/it]"
          ]
        },
        {
          "output_type": "stream",
          "name": "stdout",
          "text": [
            "Failed to process http://data.gdeltproject.org/gdeltv2/20250315200000.export.CSV.zip: 500 Server Error: Internal Server Error for url: http://data.gdeltproject.org/gdeltv2/20250315200000.export.CSV.zip\n"
          ]
        },
        {
          "output_type": "stream",
          "name": "stderr",
          "text": [
            "Processing files:  86%|████████▌ | 50475/58976 [5:50:48<9:55:14,  4.20s/it]"
          ]
        },
        {
          "output_type": "stream",
          "name": "stdout",
          "text": [
            "Failed to process http://data.gdeltproject.org/gdeltv2/20250315204500.export.CSV.zip: 500 Server Error: Internal Server Error for url: http://data.gdeltproject.org/gdeltv2/20250315204500.export.CSV.zip\n"
          ]
        },
        {
          "output_type": "stream",
          "name": "stderr",
          "text": [
            "Processing files:  86%|████████▌ | 50503/58976 [5:51:30<7:43:49,  3.28s/it]"
          ]
        },
        {
          "output_type": "stream",
          "name": "stdout",
          "text": [
            "Failed to process http://data.gdeltproject.org/gdeltv2/20250316034500.export.CSV.zip: 500 Server Error: Internal Server Error for url: http://data.gdeltproject.org/gdeltv2/20250316034500.export.CSV.zip\n"
          ]
        },
        {
          "output_type": "stream",
          "name": "stderr",
          "text": [
            "Processing files:  86%|████████▌ | 50512/58976 [5:51:54<7:30:12,  3.19s/it]"
          ]
        },
        {
          "output_type": "stream",
          "name": "stdout",
          "text": [
            "Failed to process http://data.gdeltproject.org/gdeltv2/20250316060000.export.CSV.zip: 500 Server Error: Internal Server Error for url: http://data.gdeltproject.org/gdeltv2/20250316060000.export.CSV.zip\n"
          ]
        },
        {
          "output_type": "stream",
          "name": "stderr",
          "text": [
            "Processing files:  86%|████████▌ | 50517/58976 [5:52:04<6:03:53,  2.58s/it]"
          ]
        },
        {
          "output_type": "stream",
          "name": "stdout",
          "text": [
            "Failed to process http://data.gdeltproject.org/gdeltv2/20250316071500.export.CSV.zip: 500 Server Error: Internal Server Error for url: http://data.gdeltproject.org/gdeltv2/20250316071500.export.CSV.zip\n"
          ]
        },
        {
          "output_type": "stream",
          "name": "stderr",
          "text": [
            "Processing files:  86%|████████▌ | 50523/58976 [5:52:22<8:01:39,  3.42s/it]"
          ]
        },
        {
          "output_type": "stream",
          "name": "stdout",
          "text": [
            "Failed to process http://data.gdeltproject.org/gdeltv2/20250316084500.export.CSV.zip: 500 Server Error: Internal Server Error for url: http://data.gdeltproject.org/gdeltv2/20250316084500.export.CSV.zip\n"
          ]
        },
        {
          "output_type": "stream",
          "name": "stderr",
          "text": [
            "Processing files:  86%|████████▌ | 50531/58976 [5:52:38<5:53:28,  2.51s/it]"
          ]
        },
        {
          "output_type": "stream",
          "name": "stdout",
          "text": [
            "Failed to process http://data.gdeltproject.org/gdeltv2/20250316104500.export.CSV.zip: 500 Server Error: Internal Server Error for url: http://data.gdeltproject.org/gdeltv2/20250316104500.export.CSV.zip\n"
          ]
        },
        {
          "output_type": "stream",
          "name": "stderr",
          "text": [
            "Processing files:  86%|████████▌ | 50573/58976 [5:53:59<7:00:07,  3.00s/it]"
          ]
        },
        {
          "output_type": "stream",
          "name": "stdout",
          "text": [
            "Failed to process http://data.gdeltproject.org/gdeltv2/20250316211500.export.CSV.zip: 500 Server Error: Internal Server Error for url: http://data.gdeltproject.org/gdeltv2/20250316211500.export.CSV.zip\n"
          ]
        },
        {
          "output_type": "stream",
          "name": "stderr",
          "text": [
            "Processing files:  86%|████████▌ | 50580/58976 [5:54:19<7:49:26,  3.35s/it]"
          ]
        },
        {
          "output_type": "stream",
          "name": "stdout",
          "text": [
            "Failed to process http://data.gdeltproject.org/gdeltv2/20250316230000.export.CSV.zip: 500 Server Error: Internal Server Error for url: http://data.gdeltproject.org/gdeltv2/20250316230000.export.CSV.zip\n"
          ]
        },
        {
          "output_type": "stream",
          "name": "stderr",
          "text": [
            "Processing files:  86%|████████▌ | 50597/58976 [5:54:59<6:20:17,  2.72s/it]"
          ]
        },
        {
          "output_type": "stream",
          "name": "stdout",
          "text": [
            "Failed to process http://data.gdeltproject.org/gdeltv2/20250317031500.export.CSV.zip: 500 Server Error: Internal Server Error for url: http://data.gdeltproject.org/gdeltv2/20250317031500.export.CSV.zip\n"
          ]
        },
        {
          "output_type": "stream",
          "name": "stderr",
          "text": [
            "Processing files:  86%|████████▌ | 50604/58976 [5:55:20<8:36:31,  3.70s/it]"
          ]
        },
        {
          "output_type": "stream",
          "name": "stdout",
          "text": [
            "Failed to process http://data.gdeltproject.org/gdeltv2/20250317050000.export.CSV.zip: 500 Server Error: Internal Server Error for url: http://data.gdeltproject.org/gdeltv2/20250317050000.export.CSV.zip\n"
          ]
        },
        {
          "output_type": "stream",
          "name": "stderr",
          "text": [
            "Processing files:  86%|████████▌ | 50607/58976 [5:55:29<8:04:24,  3.47s/it]"
          ]
        },
        {
          "output_type": "stream",
          "name": "stdout",
          "text": [
            "Failed to process http://data.gdeltproject.org/gdeltv2/20250317054500.export.CSV.zip: 500 Server Error: Internal Server Error for url: http://data.gdeltproject.org/gdeltv2/20250317054500.export.CSV.zip\n"
          ]
        },
        {
          "output_type": "stream",
          "name": "stderr",
          "text": [
            "\rProcessing files:  86%|████████▌ | 50608/58976 [5:55:34<9:18:01,  4.00s/it]"
          ]
        },
        {
          "output_type": "stream",
          "name": "stdout",
          "text": [
            "Failed to process http://data.gdeltproject.org/gdeltv2/20250317060000.export.CSV.zip: 500 Server Error: Internal Server Error for url: http://data.gdeltproject.org/gdeltv2/20250317060000.export.CSV.zip\n"
          ]
        },
        {
          "output_type": "stream",
          "name": "stderr",
          "text": [
            "Processing files:  86%|████████▌ | 50610/58976 [5:55:39<8:24:17,  3.62s/it]"
          ]
        },
        {
          "output_type": "stream",
          "name": "stdout",
          "text": [
            "Failed to process http://data.gdeltproject.org/gdeltv2/20250317063000.export.CSV.zip: 500 Server Error: Internal Server Error for url: http://data.gdeltproject.org/gdeltv2/20250317063000.export.CSV.zip\n"
          ]
        },
        {
          "output_type": "stream",
          "name": "stderr",
          "text": [
            "Processing files:  86%|████████▌ | 50612/58976 [5:55:48<9:34:24,  4.12s/it]"
          ]
        },
        {
          "output_type": "stream",
          "name": "stdout",
          "text": [
            "Failed to process http://data.gdeltproject.org/gdeltv2/20250317070000.export.CSV.zip: 500 Server Error: Internal Server Error for url: http://data.gdeltproject.org/gdeltv2/20250317070000.export.CSV.zip\n"
          ]
        },
        {
          "output_type": "stream",
          "name": "stderr",
          "text": [
            "Processing files:  86%|████████▌ | 50617/58976 [5:56:08<10:14:31,  4.41s/it]"
          ]
        },
        {
          "output_type": "stream",
          "name": "stdout",
          "text": [
            "Failed to process http://data.gdeltproject.org/gdeltv2/20250317081500.export.CSV.zip: 500 Server Error: Internal Server Error for url: http://data.gdeltproject.org/gdeltv2/20250317081500.export.CSV.zip\n"
          ]
        },
        {
          "output_type": "stream",
          "name": "stderr",
          "text": [
            "\rProcessing files:  86%|████████▌ | 50618/58976 [5:56:13<10:48:34,  4.66s/it]"
          ]
        },
        {
          "output_type": "stream",
          "name": "stdout",
          "text": [
            "Failed to process http://data.gdeltproject.org/gdeltv2/20250317083000.export.CSV.zip: 500 Server Error: Internal Server Error for url: http://data.gdeltproject.org/gdeltv2/20250317083000.export.CSV.zip\n"
          ]
        },
        {
          "output_type": "stream",
          "name": "stderr",
          "text": [
            "Processing files:  86%|████████▌ | 50623/58976 [5:56:24<7:03:40,  3.04s/it]"
          ]
        },
        {
          "output_type": "stream",
          "name": "stdout",
          "text": [
            "Failed to process http://data.gdeltproject.org/gdeltv2/20250317094500.export.CSV.zip: 500 Server Error: Internal Server Error for url: http://data.gdeltproject.org/gdeltv2/20250317094500.export.CSV.zip\n"
          ]
        },
        {
          "output_type": "stream",
          "name": "stderr",
          "text": [
            "Processing files:  86%|████████▌ | 50628/58976 [5:56:38<8:10:27,  3.53s/it]"
          ]
        },
        {
          "output_type": "stream",
          "name": "stdout",
          "text": [
            "Failed to process http://data.gdeltproject.org/gdeltv2/20250317110000.export.CSV.zip: 500 Server Error: Internal Server Error for url: http://data.gdeltproject.org/gdeltv2/20250317110000.export.CSV.zip\n"
          ]
        },
        {
          "output_type": "stream",
          "name": "stderr",
          "text": [
            "Processing files:  86%|████████▌ | 50630/58976 [5:56:45<8:29:53,  3.67s/it]"
          ]
        },
        {
          "output_type": "stream",
          "name": "stdout",
          "text": [
            "Failed to process http://data.gdeltproject.org/gdeltv2/20250317113000.export.CSV.zip: 500 Server Error: Internal Server Error for url: http://data.gdeltproject.org/gdeltv2/20250317113000.export.CSV.zip\n"
          ]
        },
        {
          "output_type": "stream",
          "name": "stderr",
          "text": [
            "Processing files:  86%|████████▌ | 50645/58976 [5:56:58<4:34:34,  1.98s/it]"
          ]
        },
        {
          "output_type": "stream",
          "name": "stdout",
          "text": [
            "Failed to process http://data.gdeltproject.org/gdeltv2/20250317151500.export.CSV.zip: 500 Server Error: Internal Server Error for url: http://data.gdeltproject.org/gdeltv2/20250317151500.export.CSV.zip\n"
          ]
        },
        {
          "output_type": "stream",
          "name": "stderr",
          "text": [
            "Processing files:  86%|████████▌ | 50648/58976 [5:57:10<7:42:26,  3.33s/it]"
          ]
        },
        {
          "output_type": "stream",
          "name": "stdout",
          "text": [
            "Failed to process http://data.gdeltproject.org/gdeltv2/20250317160000.export.CSV.zip: 500 Server Error: Internal Server Error for url: http://data.gdeltproject.org/gdeltv2/20250317160000.export.CSV.zip\n"
          ]
        },
        {
          "output_type": "stream",
          "name": "stderr",
          "text": [
            "Processing files:  86%|████████▌ | 50655/58976 [5:57:29<7:44:41,  3.35s/it]"
          ]
        },
        {
          "output_type": "stream",
          "name": "stdout",
          "text": [
            "Failed to process http://data.gdeltproject.org/gdeltv2/20250317174500.export.CSV.zip: 500 Server Error: Internal Server Error for url: http://data.gdeltproject.org/gdeltv2/20250317174500.export.CSV.zip\n"
          ]
        },
        {
          "output_type": "stream",
          "name": "stderr",
          "text": [
            "Processing files:  86%|████████▌ | 50678/58976 [5:58:27<5:38:19,  2.45s/it]"
          ]
        },
        {
          "output_type": "stream",
          "name": "stdout",
          "text": [
            "Failed to process http://data.gdeltproject.org/gdeltv2/20250317233000.export.CSV.zip: 500 Server Error: Internal Server Error for url: http://data.gdeltproject.org/gdeltv2/20250317233000.export.CSV.zip\n"
          ]
        },
        {
          "output_type": "stream",
          "name": "stderr",
          "text": [
            "Processing files:  86%|████████▌ | 50682/58976 [5:58:38<6:50:56,  2.97s/it]"
          ]
        },
        {
          "output_type": "stream",
          "name": "stdout",
          "text": [
            "Failed to process http://data.gdeltproject.org/gdeltv2/20250318003000.export.CSV.zip: 500 Server Error: Internal Server Error for url: http://data.gdeltproject.org/gdeltv2/20250318003000.export.CSV.zip\n"
          ]
        },
        {
          "output_type": "stream",
          "name": "stderr",
          "text": [
            "Processing files:  86%|████████▌ | 50695/58976 [5:59:08<7:04:23,  3.07s/it]"
          ]
        },
        {
          "output_type": "stream",
          "name": "stdout",
          "text": [
            "Failed to process http://data.gdeltproject.org/gdeltv2/20250318034500.export.CSV.zip: 500 Server Error: Internal Server Error for url: http://data.gdeltproject.org/gdeltv2/20250318034500.export.CSV.zip\n"
          ]
        },
        {
          "output_type": "stream",
          "name": "stderr",
          "text": [
            "\rProcessing files:  86%|████████▌ | 50696/58976 [5:59:14<8:33:29,  3.72s/it]"
          ]
        },
        {
          "output_type": "stream",
          "name": "stdout",
          "text": [
            "Failed to process http://data.gdeltproject.org/gdeltv2/20250318040000.export.CSV.zip: 500 Server Error: Internal Server Error for url: http://data.gdeltproject.org/gdeltv2/20250318040000.export.CSV.zip\n"
          ]
        },
        {
          "output_type": "stream",
          "name": "stderr",
          "text": [
            "Processing files:  86%|████████▌ | 50706/58976 [5:59:50<10:00:22,  4.36s/it]"
          ]
        },
        {
          "output_type": "stream",
          "name": "stdout",
          "text": [
            "Failed to process http://data.gdeltproject.org/gdeltv2/20250318063000.export.CSV.zip: 500 Server Error: Internal Server Error for url: http://data.gdeltproject.org/gdeltv2/20250318063000.export.CSV.zip\n"
          ]
        },
        {
          "output_type": "stream",
          "name": "stderr",
          "text": [
            "Processing files:  86%|████████▌ | 50714/58976 [6:00:10<7:11:13,  3.13s/it]"
          ]
        },
        {
          "output_type": "stream",
          "name": "stdout",
          "text": [
            "Failed to process http://data.gdeltproject.org/gdeltv2/20250318083000.export.CSV.zip: 500 Server Error: Internal Server Error for url: http://data.gdeltproject.org/gdeltv2/20250318083000.export.CSV.zip\n"
          ]
        },
        {
          "output_type": "stream",
          "name": "stderr",
          "text": [
            "Processing files:  86%|████████▌ | 50720/58976 [6:00:26<6:58:05,  3.04s/it]"
          ]
        },
        {
          "output_type": "stream",
          "name": "stdout",
          "text": [
            "Failed to process http://data.gdeltproject.org/gdeltv2/20250318100000.export.CSV.zip: 500 Server Error: Internal Server Error for url: http://data.gdeltproject.org/gdeltv2/20250318100000.export.CSV.zip\n"
          ]
        },
        {
          "output_type": "stream",
          "name": "stderr",
          "text": [
            "Processing files:  86%|████████▌ | 50731/58976 [6:00:52<6:15:21,  2.73s/it]"
          ]
        },
        {
          "output_type": "stream",
          "name": "stdout",
          "text": [
            "Failed to process http://data.gdeltproject.org/gdeltv2/20250318124500.export.CSV.zip: 500 Server Error: Internal Server Error for url: http://data.gdeltproject.org/gdeltv2/20250318124500.export.CSV.zip\n"
          ]
        },
        {
          "output_type": "stream",
          "name": "stderr",
          "text": [
            "Processing files:  86%|████████▌ | 50740/58976 [6:01:17<7:13:00,  3.15s/it]"
          ]
        },
        {
          "output_type": "stream",
          "name": "stdout",
          "text": [
            "Failed to process http://data.gdeltproject.org/gdeltv2/20250318150000.export.CSV.zip: 500 Server Error: Internal Server Error for url: http://data.gdeltproject.org/gdeltv2/20250318150000.export.CSV.zip\n"
          ]
        },
        {
          "output_type": "stream",
          "name": "stderr",
          "text": [
            "Processing files:  86%|████████▌ | 50764/58976 [6:02:20<8:02:10,  3.52s/it]"
          ]
        },
        {
          "output_type": "stream",
          "name": "stdout",
          "text": [
            "Failed to process http://data.gdeltproject.org/gdeltv2/20250318210000.export.CSV.zip: 500 Server Error: Internal Server Error for url: http://data.gdeltproject.org/gdeltv2/20250318210000.export.CSV.zip\n"
          ]
        },
        {
          "output_type": "stream",
          "name": "stderr",
          "text": [
            "\rProcessing files:  86%|████████▌ | 50765/58976 [6:02:26<9:12:20,  4.04s/it]"
          ]
        },
        {
          "output_type": "stream",
          "name": "stdout",
          "text": [
            "Failed to process http://data.gdeltproject.org/gdeltv2/20250318211500.export.CSV.zip: 500 Server Error: Internal Server Error for url: http://data.gdeltproject.org/gdeltv2/20250318211500.export.CSV.zip\n"
          ]
        },
        {
          "output_type": "stream",
          "name": "stderr",
          "text": [
            "Processing files:  86%|████████▌ | 50767/58976 [6:02:36<10:23:52,  4.56s/it]"
          ]
        },
        {
          "output_type": "stream",
          "name": "stdout",
          "text": [
            "Failed to process http://data.gdeltproject.org/gdeltv2/20250318214500.export.CSV.zip: 500 Server Error: Internal Server Error for url: http://data.gdeltproject.org/gdeltv2/20250318214500.export.CSV.zip\n"
          ]
        },
        {
          "output_type": "stream",
          "name": "stderr",
          "text": [
            "Processing files:  86%|████████▌ | 50771/58976 [6:02:46<7:43:56,  3.39s/it]"
          ]
        },
        {
          "output_type": "stream",
          "name": "stdout",
          "text": [
            "Failed to process http://data.gdeltproject.org/gdeltv2/20250318224500.export.CSV.zip: 500 Server Error: Internal Server Error for url: http://data.gdeltproject.org/gdeltv2/20250318224500.export.CSV.zip\n"
          ]
        },
        {
          "output_type": "stream",
          "name": "stderr",
          "text": [
            "Processing files:  86%|████████▌ | 50780/58976 [6:03:07<6:04:08,  2.67s/it]"
          ]
        },
        {
          "output_type": "stream",
          "name": "stdout",
          "text": [
            "Failed to process http://data.gdeltproject.org/gdeltv2/20250319010000.export.CSV.zip: 500 Server Error: Internal Server Error for url: http://data.gdeltproject.org/gdeltv2/20250319010000.export.CSV.zip\n"
          ]
        },
        {
          "output_type": "stream",
          "name": "stderr",
          "text": [
            "Processing files:  86%|████████▌ | 50797/58976 [6:03:50<7:33:16,  3.33s/it]"
          ]
        },
        {
          "output_type": "stream",
          "name": "stdout",
          "text": [
            "Failed to process http://data.gdeltproject.org/gdeltv2/20250319051500.export.CSV.zip: 500 Server Error: Internal Server Error for url: http://data.gdeltproject.org/gdeltv2/20250319051500.export.CSV.zip\n"
          ]
        },
        {
          "output_type": "stream",
          "name": "stderr",
          "text": [
            "Processing files:  86%|████████▌ | 50799/58976 [6:03:58<8:43:48,  3.84s/it]"
          ]
        },
        {
          "output_type": "stream",
          "name": "stdout",
          "text": [
            "Failed to process http://data.gdeltproject.org/gdeltv2/20250319054500.export.CSV.zip: 500 Server Error: Internal Server Error for url: http://data.gdeltproject.org/gdeltv2/20250319054500.export.CSV.zip\n"
          ]
        },
        {
          "output_type": "stream",
          "name": "stderr",
          "text": [
            "Processing files:  86%|████████▌ | 50807/58976 [6:04:23<8:12:09,  3.61s/it]"
          ]
        },
        {
          "output_type": "stream",
          "name": "stdout",
          "text": [
            "Failed to process http://data.gdeltproject.org/gdeltv2/20250319074500.export.CSV.zip: 500 Server Error: Internal Server Error for url: http://data.gdeltproject.org/gdeltv2/20250319074500.export.CSV.zip\n"
          ]
        },
        {
          "output_type": "stream",
          "name": "stderr",
          "text": [
            "Processing files:  86%|████████▌ | 50819/58976 [6:04:51<6:54:17,  3.05s/it]"
          ]
        },
        {
          "output_type": "stream",
          "name": "stdout",
          "text": [
            "Failed to process http://data.gdeltproject.org/gdeltv2/20250319104500.export.CSV.zip: 500 Server Error: Internal Server Error for url: http://data.gdeltproject.org/gdeltv2/20250319104500.export.CSV.zip\n"
          ]
        },
        {
          "output_type": "stream",
          "name": "stderr",
          "text": [
            "Processing files:  86%|████████▌ | 50828/58976 [6:05:16<7:53:20,  3.49s/it]"
          ]
        },
        {
          "output_type": "stream",
          "name": "stdout",
          "text": [
            "Failed to process http://data.gdeltproject.org/gdeltv2/20250319130000.export.CSV.zip: 500 Server Error: Internal Server Error for url: http://data.gdeltproject.org/gdeltv2/20250319130000.export.CSV.zip\n"
          ]
        },
        {
          "output_type": "stream",
          "name": "stderr",
          "text": [
            "Processing files:  86%|████████▌ | 50833/58976 [6:05:31<7:01:51,  3.11s/it]"
          ]
        },
        {
          "output_type": "stream",
          "name": "stdout",
          "text": [
            "Failed to process http://data.gdeltproject.org/gdeltv2/20250319141500.export.CSV.zip: 500 Server Error: Internal Server Error for url: http://data.gdeltproject.org/gdeltv2/20250319141500.export.CSV.zip\n"
          ]
        },
        {
          "output_type": "stream",
          "name": "stderr",
          "text": [
            "Processing files:  86%|████████▌ | 50839/58976 [6:05:50<7:51:47,  3.48s/it]"
          ]
        },
        {
          "output_type": "stream",
          "name": "stdout",
          "text": [
            "Failed to process http://data.gdeltproject.org/gdeltv2/20250319154500.export.CSV.zip: 500 Server Error: Internal Server Error for url: http://data.gdeltproject.org/gdeltv2/20250319154500.export.CSV.zip\n"
          ]
        },
        {
          "output_type": "stream",
          "name": "stderr",
          "text": [
            "\rProcessing files:  86%|████████▌ | 50840/58976 [6:05:55<9:00:46,  3.99s/it]"
          ]
        },
        {
          "output_type": "stream",
          "name": "stdout",
          "text": [
            "Failed to process http://data.gdeltproject.org/gdeltv2/20250319160000.export.CSV.zip: 500 Server Error: Internal Server Error for url: http://data.gdeltproject.org/gdeltv2/20250319160000.export.CSV.zip\n"
          ]
        },
        {
          "output_type": "stream",
          "name": "stderr",
          "text": [
            "Processing files:  86%|████████▌ | 50846/58976 [6:06:15<9:04:27,  4.02s/it]"
          ]
        },
        {
          "output_type": "stream",
          "name": "stdout",
          "text": [
            "Failed to process http://data.gdeltproject.org/gdeltv2/20250319173000.export.CSV.zip: 500 Server Error: Internal Server Error for url: http://data.gdeltproject.org/gdeltv2/20250319173000.export.CSV.zip\n"
          ]
        },
        {
          "output_type": "stream",
          "name": "stderr",
          "text": [
            "Processing files:  86%|████████▌ | 50851/58976 [6:06:33<8:43:44,  3.87s/it]"
          ]
        },
        {
          "output_type": "stream",
          "name": "stdout",
          "text": [
            "Failed to process http://data.gdeltproject.org/gdeltv2/20250319184500.export.CSV.zip: 500 Server Error: Internal Server Error for url: http://data.gdeltproject.org/gdeltv2/20250319184500.export.CSV.zip\n"
          ]
        },
        {
          "output_type": "stream",
          "name": "stderr",
          "text": [
            "\rProcessing files:  86%|████████▌ | 50852/58976 [6:06:38<9:58:56,  4.42s/it]"
          ]
        },
        {
          "output_type": "stream",
          "name": "stdout",
          "text": [
            "Failed to process http://data.gdeltproject.org/gdeltv2/20250319190000.export.CSV.zip: 500 Server Error: Internal Server Error for url: http://data.gdeltproject.org/gdeltv2/20250319190000.export.CSV.zip\n"
          ]
        },
        {
          "output_type": "stream",
          "name": "stderr",
          "text": [
            "Processing files:  86%|████████▌ | 50857/58976 [6:06:52<7:31:46,  3.34s/it]"
          ]
        },
        {
          "output_type": "stream",
          "name": "stdout",
          "text": [
            "Failed to process http://data.gdeltproject.org/gdeltv2/20250319201500.export.CSV.zip: 500 Server Error: Internal Server Error for url: http://data.gdeltproject.org/gdeltv2/20250319201500.export.CSV.zip\n"
          ]
        },
        {
          "output_type": "stream",
          "name": "stderr",
          "text": [
            "Processing files:  86%|████████▋ | 50882/58976 [6:07:42<7:10:37,  3.19s/it]"
          ]
        },
        {
          "output_type": "stream",
          "name": "stdout",
          "text": [
            "Failed to process http://data.gdeltproject.org/gdeltv2/20250320023000.export.CSV.zip: 500 Server Error: Internal Server Error for url: http://data.gdeltproject.org/gdeltv2/20250320023000.export.CSV.zip\n"
          ]
        },
        {
          "output_type": "stream",
          "name": "stderr",
          "text": [
            "\rProcessing files:  86%|████████▋ | 50883/58976 [6:07:48<8:32:49,  3.80s/it]"
          ]
        },
        {
          "output_type": "stream",
          "name": "stdout",
          "text": [
            "Failed to process http://data.gdeltproject.org/gdeltv2/20250320024500.export.CSV.zip: 500 Server Error: Internal Server Error for url: http://data.gdeltproject.org/gdeltv2/20250320024500.export.CSV.zip\n"
          ]
        },
        {
          "output_type": "stream",
          "name": "stderr",
          "text": [
            "\rProcessing files:  86%|████████▋ | 50884/58976 [6:07:53<9:30:42,  4.23s/it]"
          ]
        },
        {
          "output_type": "stream",
          "name": "stdout",
          "text": [
            "Failed to process http://data.gdeltproject.org/gdeltv2/20250320030000.export.CSV.zip: 500 Server Error: Internal Server Error for url: http://data.gdeltproject.org/gdeltv2/20250320030000.export.CSV.zip\n"
          ]
        },
        {
          "output_type": "stream",
          "name": "stderr",
          "text": [
            "Processing files:  86%|████████▋ | 50897/58976 [6:08:18<6:17:42,  2.81s/it]"
          ]
        },
        {
          "output_type": "stream",
          "name": "stdout",
          "text": [
            "Failed to process http://data.gdeltproject.org/gdeltv2/20250320061500.export.CSV.zip: 500 Server Error: Internal Server Error for url: http://data.gdeltproject.org/gdeltv2/20250320061500.export.CSV.zip\n"
          ]
        },
        {
          "output_type": "stream",
          "name": "stderr",
          "text": [
            "Processing files:  86%|████████▋ | 50934/58976 [6:09:44<7:41:58,  3.45s/it]"
          ]
        },
        {
          "output_type": "stream",
          "name": "stdout",
          "text": [
            "Failed to process http://data.gdeltproject.org/gdeltv2/20250320153000.export.CSV.zip: 500 Server Error: Internal Server Error for url: http://data.gdeltproject.org/gdeltv2/20250320153000.export.CSV.zip\n"
          ]
        },
        {
          "output_type": "stream",
          "name": "stderr",
          "text": [
            "Processing files:  86%|████████▋ | 50937/58976 [6:09:54<8:02:35,  3.60s/it]"
          ]
        },
        {
          "output_type": "stream",
          "name": "stdout",
          "text": [
            "Failed to process http://data.gdeltproject.org/gdeltv2/20250320161500.export.CSV.zip: 500 Server Error: Internal Server Error for url: http://data.gdeltproject.org/gdeltv2/20250320161500.export.CSV.zip\n"
          ]
        },
        {
          "output_type": "stream",
          "name": "stderr",
          "text": [
            "Processing files:  86%|████████▋ | 50942/58976 [6:10:04<5:53:55,  2.64s/it]"
          ]
        },
        {
          "output_type": "stream",
          "name": "stdout",
          "text": [
            "Failed to process http://data.gdeltproject.org/gdeltv2/20250320173000.export.CSV.zip: 500 Server Error: Internal Server Error for url: http://data.gdeltproject.org/gdeltv2/20250320173000.export.CSV.zip\n"
          ]
        },
        {
          "output_type": "stream",
          "name": "stderr",
          "text": [
            "Processing files:  86%|████████▋ | 50946/58976 [6:10:15<7:30:57,  3.37s/it]"
          ]
        },
        {
          "output_type": "stream",
          "name": "stdout",
          "text": [
            "Failed to process http://data.gdeltproject.org/gdeltv2/20250320183000.export.CSV.zip: 500 Server Error: Internal Server Error for url: http://data.gdeltproject.org/gdeltv2/20250320183000.export.CSV.zip\n"
          ]
        },
        {
          "output_type": "stream",
          "name": "stderr",
          "text": [
            "Processing files:  86%|████████▋ | 50980/58976 [6:11:42<7:00:50,  3.16s/it]"
          ]
        },
        {
          "output_type": "stream",
          "name": "stdout",
          "text": [
            "Failed to process http://data.gdeltproject.org/gdeltv2/20250321030000.export.CSV.zip: 500 Server Error: Internal Server Error for url: http://data.gdeltproject.org/gdeltv2/20250321030000.export.CSV.zip\n"
          ]
        },
        {
          "output_type": "stream",
          "name": "stderr",
          "text": [
            "Processing files:  86%|████████▋ | 50988/58976 [6:11:59<6:08:20,  2.77s/it]"
          ]
        },
        {
          "output_type": "stream",
          "name": "stdout",
          "text": [
            "Failed to process http://data.gdeltproject.org/gdeltv2/20250321050000.export.CSV.zip: 500 Server Error: Internal Server Error for url: http://data.gdeltproject.org/gdeltv2/20250321050000.export.CSV.zip\n"
          ]
        },
        {
          "output_type": "stream",
          "name": "stderr",
          "text": [
            "Processing files:  86%|████████▋ | 51000/58976 [6:12:31<8:35:48,  3.88s/it]"
          ]
        },
        {
          "output_type": "stream",
          "name": "stdout",
          "text": [
            "Failed to process http://data.gdeltproject.org/gdeltv2/20250321080000.export.CSV.zip: 500 Server Error: Internal Server Error for url: http://data.gdeltproject.org/gdeltv2/20250321080000.export.CSV.zip\n"
          ]
        },
        {
          "output_type": "stream",
          "name": "stderr",
          "text": [
            "Processing files:  86%|████████▋ | 51007/58976 [6:12:47<6:44:30,  3.05s/it]"
          ]
        },
        {
          "output_type": "stream",
          "name": "stdout",
          "text": [
            "Failed to process http://data.gdeltproject.org/gdeltv2/20250321094500.export.CSV.zip: 500 Server Error: Internal Server Error for url: http://data.gdeltproject.org/gdeltv2/20250321094500.export.CSV.zip\n"
          ]
        },
        {
          "output_type": "stream",
          "name": "stderr",
          "text": [
            "Processing files:  86%|████████▋ | 51013/58976 [6:13:02<6:43:41,  3.04s/it]"
          ]
        },
        {
          "output_type": "stream",
          "name": "stdout",
          "text": [
            "Failed to process http://data.gdeltproject.org/gdeltv2/20250321111500.export.CSV.zip: 500 Server Error: Internal Server Error for url: http://data.gdeltproject.org/gdeltv2/20250321111500.export.CSV.zip\n"
          ]
        },
        {
          "output_type": "stream",
          "name": "stderr",
          "text": [
            "Processing files:  87%|████████▋ | 51018/58976 [6:13:13<6:40:45,  3.02s/it]"
          ]
        },
        {
          "output_type": "stream",
          "name": "stdout",
          "text": [
            "Failed to process http://data.gdeltproject.org/gdeltv2/20250321123000.export.CSV.zip: 500 Server Error: Internal Server Error for url: http://data.gdeltproject.org/gdeltv2/20250321123000.export.CSV.zip\n"
          ]
        },
        {
          "output_type": "stream",
          "name": "stderr",
          "text": [
            "Processing files:  87%|████████▋ | 51024/58976 [6:13:37<10:00:07,  4.53s/it]"
          ]
        },
        {
          "output_type": "stream",
          "name": "stdout",
          "text": [
            "Failed to process http://data.gdeltproject.org/gdeltv2/20250321140000.export.CSV.zip: 500 Server Error: Internal Server Error for url: http://data.gdeltproject.org/gdeltv2/20250321140000.export.CSV.zip\n"
          ]
        },
        {
          "output_type": "stream",
          "name": "stderr",
          "text": [
            "Processing files:  87%|████████▋ | 51028/58976 [6:13:50<8:43:34,  3.95s/it]"
          ]
        },
        {
          "output_type": "stream",
          "name": "stdout",
          "text": [
            "Failed to process http://data.gdeltproject.org/gdeltv2/20250321150000.export.CSV.zip: 500 Server Error: Internal Server Error for url: http://data.gdeltproject.org/gdeltv2/20250321150000.export.CSV.zip\n"
          ]
        },
        {
          "output_type": "stream",
          "name": "stderr",
          "text": [
            "Processing files:  87%|████████▋ | 51051/58976 [6:14:47<7:29:24,  3.40s/it]"
          ]
        },
        {
          "output_type": "stream",
          "name": "stdout",
          "text": [
            "Failed to process http://data.gdeltproject.org/gdeltv2/20250321204500.export.CSV.zip: 500 Server Error: Internal Server Error for url: http://data.gdeltproject.org/gdeltv2/20250321204500.export.CSV.zip\n"
          ]
        },
        {
          "output_type": "stream",
          "name": "stderr",
          "text": [
            "Processing files:  87%|████████▋ | 51080/58976 [6:15:32<7:24:55,  3.38s/it]"
          ]
        },
        {
          "output_type": "stream",
          "name": "stdout",
          "text": [
            "Failed to process http://data.gdeltproject.org/gdeltv2/20250322040000.export.CSV.zip: 500 Server Error: Internal Server Error for url: http://data.gdeltproject.org/gdeltv2/20250322040000.export.CSV.zip\n"
          ]
        },
        {
          "output_type": "stream",
          "name": "stderr",
          "text": [
            "Processing files:  87%|████████▋ | 51089/58976 [6:15:47<5:07:12,  2.34s/it]"
          ]
        },
        {
          "output_type": "stream",
          "name": "stdout",
          "text": [
            "Failed to process http://data.gdeltproject.org/gdeltv2/20250322061500.export.CSV.zip: 500 Server Error: Internal Server Error for url: http://data.gdeltproject.org/gdeltv2/20250322061500.export.CSV.zip\n"
          ]
        },
        {
          "output_type": "stream",
          "name": "stderr",
          "text": [
            "Processing files:  87%|████████▋ | 51098/58976 [6:16:08<5:59:05,  2.73s/it]"
          ]
        },
        {
          "output_type": "stream",
          "name": "stdout",
          "text": [
            "Failed to process http://data.gdeltproject.org/gdeltv2/20250322083000.export.CSV.zip: 500 Server Error: Internal Server Error for url: http://data.gdeltproject.org/gdeltv2/20250322083000.export.CSV.zip\n"
          ]
        },
        {
          "output_type": "stream",
          "name": "stderr",
          "text": [
            "Processing files:  87%|████████▋ | 51101/58976 [6:16:17<7:18:32,  3.34s/it]"
          ]
        },
        {
          "output_type": "stream",
          "name": "stdout",
          "text": [
            "Failed to process http://data.gdeltproject.org/gdeltv2/20250322091500.export.CSV.zip: 500 Server Error: Internal Server Error for url: http://data.gdeltproject.org/gdeltv2/20250322091500.export.CSV.zip\n"
          ]
        },
        {
          "output_type": "stream",
          "name": "stderr",
          "text": [
            "Processing files:  87%|████████▋ | 51106/58976 [6:16:29<6:04:05,  2.78s/it]"
          ]
        },
        {
          "output_type": "stream",
          "name": "stdout",
          "text": [
            "Failed to process http://data.gdeltproject.org/gdeltv2/20250322103000.export.CSV.zip: 500 Server Error: Internal Server Error for url: http://data.gdeltproject.org/gdeltv2/20250322103000.export.CSV.zip\n"
          ]
        },
        {
          "output_type": "stream",
          "name": "stderr",
          "text": [
            "Processing files:  87%|████████▋ | 51115/58976 [6:16:49<5:51:11,  2.68s/it]"
          ]
        },
        {
          "output_type": "stream",
          "name": "stdout",
          "text": [
            "Failed to process http://data.gdeltproject.org/gdeltv2/20250322124500.export.CSV.zip: 500 Server Error: Internal Server Error for url: http://data.gdeltproject.org/gdeltv2/20250322124500.export.CSV.zip\n"
          ]
        },
        {
          "output_type": "stream",
          "name": "stderr",
          "text": [
            "Processing files:  87%|████████▋ | 51124/58976 [6:17:18<8:16:42,  3.80s/it]"
          ]
        },
        {
          "output_type": "stream",
          "name": "stdout",
          "text": [
            "Failed to process http://data.gdeltproject.org/gdeltv2/20250322150000.export.CSV.zip: 500 Server Error: Internal Server Error for url: http://data.gdeltproject.org/gdeltv2/20250322150000.export.CSV.zip\n"
          ]
        },
        {
          "output_type": "stream",
          "name": "stderr",
          "text": [
            "Processing files:  87%|████████▋ | 51149/58976 [6:18:15<6:59:55,  3.22s/it]"
          ]
        },
        {
          "output_type": "stream",
          "name": "stdout",
          "text": [
            "Failed to process http://data.gdeltproject.org/gdeltv2/20250322211500.export.CSV.zip: 500 Server Error: Internal Server Error for url: http://data.gdeltproject.org/gdeltv2/20250322211500.export.CSV.zip\n"
          ]
        },
        {
          "output_type": "stream",
          "name": "stderr",
          "text": [
            "Processing files:  87%|████████▋ | 51176/58976 [6:19:15<5:04:29,  2.34s/it]"
          ]
        },
        {
          "output_type": "stream",
          "name": "stdout",
          "text": [
            "Failed to process http://data.gdeltproject.org/gdeltv2/20250323040000.export.CSV.zip: 500 Server Error: Internal Server Error for url: http://data.gdeltproject.org/gdeltv2/20250323040000.export.CSV.zip\n"
          ]
        },
        {
          "output_type": "stream",
          "name": "stderr",
          "text": [
            "Processing files:  87%|████████▋ | 51179/58976 [6:19:27<7:44:17,  3.57s/it]"
          ]
        },
        {
          "output_type": "stream",
          "name": "stdout",
          "text": [
            "Failed to process http://data.gdeltproject.org/gdeltv2/20250323044500.export.CSV.zip: 500 Server Error: Internal Server Error for url: http://data.gdeltproject.org/gdeltv2/20250323044500.export.CSV.zip\n"
          ]
        },
        {
          "output_type": "stream",
          "name": "stderr",
          "text": [
            "Processing files:  87%|████████▋ | 51192/58976 [6:19:56<6:46:51,  3.14s/it]"
          ]
        },
        {
          "output_type": "stream",
          "name": "stdout",
          "text": [
            "Failed to process http://data.gdeltproject.org/gdeltv2/20250323080000.export.CSV.zip: 500 Server Error: Internal Server Error for url: http://data.gdeltproject.org/gdeltv2/20250323080000.export.CSV.zip\n"
          ]
        },
        {
          "output_type": "stream",
          "name": "stderr",
          "text": [
            "Processing files:  87%|████████▋ | 51201/58976 [6:20:11<5:29:22,  2.54s/it]"
          ]
        },
        {
          "output_type": "stream",
          "name": "stdout",
          "text": [
            "Failed to process http://data.gdeltproject.org/gdeltv2/20250323101500.export.CSV.zip: 500 Server Error: Internal Server Error for url: http://data.gdeltproject.org/gdeltv2/20250323101500.export.CSV.zip\n"
          ]
        },
        {
          "output_type": "stream",
          "name": "stderr",
          "text": [
            "Processing files:  87%|████████▋ | 51207/58976 [6:20:27<7:00:46,  3.25s/it]"
          ]
        },
        {
          "output_type": "stream",
          "name": "stdout",
          "text": [
            "Failed to process http://data.gdeltproject.org/gdeltv2/20250323114500.export.CSV.zip: 500 Server Error: Internal Server Error for url: http://data.gdeltproject.org/gdeltv2/20250323114500.export.CSV.zip\n"
          ]
        },
        {
          "output_type": "stream",
          "name": "stderr",
          "text": [
            "Processing files:  87%|████████▋ | 51211/58976 [6:20:40<7:34:43,  3.51s/it]"
          ]
        },
        {
          "output_type": "stream",
          "name": "stdout",
          "text": [
            "Failed to process http://data.gdeltproject.org/gdeltv2/20250323124500.export.CSV.zip: 500 Server Error: Internal Server Error for url: http://data.gdeltproject.org/gdeltv2/20250323124500.export.CSV.zip\n"
          ]
        },
        {
          "output_type": "stream",
          "name": "stderr",
          "text": [
            "Processing files:  87%|████████▋ | 51216/58976 [6:20:52<5:59:52,  2.78s/it]"
          ]
        },
        {
          "output_type": "stream",
          "name": "stdout",
          "text": [
            "Failed to process http://data.gdeltproject.org/gdeltv2/20250323140000.export.CSV.zip: 500 Server Error: Internal Server Error for url: http://data.gdeltproject.org/gdeltv2/20250323140000.export.CSV.zip\n"
          ]
        },
        {
          "output_type": "stream",
          "name": "stderr",
          "text": [
            "Processing files:  87%|████████▋ | 51226/58976 [6:21:15<7:37:32,  3.54s/it]"
          ]
        },
        {
          "output_type": "stream",
          "name": "stdout",
          "text": [
            "Failed to process http://data.gdeltproject.org/gdeltv2/20250323163000.export.CSV.zip: 500 Server Error: Internal Server Error for url: http://data.gdeltproject.org/gdeltv2/20250323163000.export.CSV.zip\n"
          ]
        },
        {
          "output_type": "stream",
          "name": "stderr",
          "text": [
            "Processing files:  87%|████████▋ | 51228/58976 [6:21:22<7:58:48,  3.71s/it]"
          ]
        },
        {
          "output_type": "stream",
          "name": "stdout",
          "text": [
            "Failed to process http://data.gdeltproject.org/gdeltv2/20250323170000.export.CSV.zip: 500 Server Error: Internal Server Error for url: http://data.gdeltproject.org/gdeltv2/20250323170000.export.CSV.zip\n"
          ]
        },
        {
          "output_type": "stream",
          "name": "stderr",
          "text": [
            "Processing files:  87%|████████▋ | 51237/58976 [6:21:49<7:51:08,  3.65s/it]"
          ]
        },
        {
          "output_type": "stream",
          "name": "stdout",
          "text": [
            "Failed to process http://data.gdeltproject.org/gdeltv2/20250323191500.export.CSV.zip: 500 Server Error: Internal Server Error for url: http://data.gdeltproject.org/gdeltv2/20250323191500.export.CSV.zip\n"
          ]
        },
        {
          "output_type": "stream",
          "name": "stderr",
          "text": [
            "Processing files:  87%|████████▋ | 51240/58976 [6:22:00<8:17:59,  3.86s/it]"
          ]
        },
        {
          "output_type": "stream",
          "name": "stdout",
          "text": [
            "Failed to process http://data.gdeltproject.org/gdeltv2/20250323200000.export.CSV.zip: 500 Server Error: Internal Server Error for url: http://data.gdeltproject.org/gdeltv2/20250323200000.export.CSV.zip\n"
          ]
        },
        {
          "output_type": "stream",
          "name": "stderr",
          "text": [
            "Processing files:  87%|████████▋ | 51247/58976 [6:22:24<8:38:22,  4.02s/it]"
          ]
        },
        {
          "output_type": "stream",
          "name": "stdout",
          "text": [
            "Failed to process http://data.gdeltproject.org/gdeltv2/20250323214500.export.CSV.zip: 500 Server Error: Internal Server Error for url: http://data.gdeltproject.org/gdeltv2/20250323214500.export.CSV.zip\n"
          ]
        },
        {
          "output_type": "stream",
          "name": "stderr",
          "text": [
            "Processing files:  87%|████████▋ | 51250/58976 [6:22:32<6:59:54,  3.26s/it]"
          ]
        },
        {
          "output_type": "stream",
          "name": "stdout",
          "text": [
            "Failed to process http://data.gdeltproject.org/gdeltv2/20250323223000.export.CSV.zip: 500 Server Error: Internal Server Error for url: http://data.gdeltproject.org/gdeltv2/20250323223000.export.CSV.zip\n"
          ]
        },
        {
          "output_type": "stream",
          "name": "stderr",
          "text": [
            "Processing files:  87%|████████▋ | 51259/58976 [6:22:50<6:09:24,  2.87s/it]"
          ]
        },
        {
          "output_type": "stream",
          "name": "stdout",
          "text": [
            "Failed to process http://data.gdeltproject.org/gdeltv2/20250324004500.export.CSV.zip: 500 Server Error: Internal Server Error for url: http://data.gdeltproject.org/gdeltv2/20250324004500.export.CSV.zip\n"
          ]
        },
        {
          "output_type": "stream",
          "name": "stderr",
          "text": [
            "Processing files:  87%|████████▋ | 51283/58976 [6:23:28<5:48:46,  2.72s/it]"
          ]
        },
        {
          "output_type": "stream",
          "name": "stdout",
          "text": [
            "Failed to process http://data.gdeltproject.org/gdeltv2/20250324064500.export.CSV.zip: 500 Server Error: Internal Server Error for url: http://data.gdeltproject.org/gdeltv2/20250324064500.export.CSV.zip\n"
          ]
        },
        {
          "output_type": "stream",
          "name": "stderr",
          "text": [
            "Processing files:  87%|████████▋ | 51300/58976 [6:23:59<4:33:43,  2.14s/it]"
          ]
        },
        {
          "output_type": "stream",
          "name": "stdout",
          "text": [
            "Failed to process http://data.gdeltproject.org/gdeltv2/20250324110000.export.CSV.zip: 500 Server Error: Internal Server Error for url: http://data.gdeltproject.org/gdeltv2/20250324110000.export.CSV.zip\n"
          ]
        },
        {
          "output_type": "stream",
          "name": "stderr",
          "text": [
            "Processing files:  87%|████████▋ | 51327/58976 [6:24:49<4:29:33,  2.11s/it]"
          ]
        },
        {
          "output_type": "stream",
          "name": "stdout",
          "text": [
            "Failed to process http://data.gdeltproject.org/gdeltv2/20250324174500.export.CSV.zip: 500 Server Error: Internal Server Error for url: http://data.gdeltproject.org/gdeltv2/20250324174500.export.CSV.zip\n"
          ]
        },
        {
          "output_type": "stream",
          "name": "stderr",
          "text": [
            "Processing files:  87%|████████▋ | 51333/58976 [6:25:00<5:01:16,  2.37s/it]"
          ]
        },
        {
          "output_type": "stream",
          "name": "stdout",
          "text": [
            "Failed to process http://data.gdeltproject.org/gdeltv2/20250324191500.export.CSV.zip: 500 Server Error: Internal Server Error for url: http://data.gdeltproject.org/gdeltv2/20250324191500.export.CSV.zip\n"
          ]
        },
        {
          "output_type": "stream",
          "name": "stderr",
          "text": [
            "Processing files:  87%|████████▋ | 51378/58976 [6:25:43<4:06:48,  1.95s/it]"
          ]
        },
        {
          "output_type": "stream",
          "name": "stdout",
          "text": [
            "Failed to process http://data.gdeltproject.org/gdeltv2/20250325063000.export.CSV.zip: 500 Server Error: Internal Server Error for url: http://data.gdeltproject.org/gdeltv2/20250325063000.export.CSV.zip\n"
          ]
        },
        {
          "output_type": "stream",
          "name": "stderr",
          "text": [
            "Processing files:  87%|████████▋ | 51385/58976 [6:25:54<4:19:42,  2.05s/it]"
          ]
        },
        {
          "output_type": "stream",
          "name": "stdout",
          "text": [
            "Failed to process http://data.gdeltproject.org/gdeltv2/20250325081500.export.CSV.zip: 500 Server Error: Internal Server Error for url: http://data.gdeltproject.org/gdeltv2/20250325081500.export.CSV.zip\n"
          ]
        },
        {
          "output_type": "stream",
          "name": "stderr",
          "text": [
            "Processing files:  87%|████████▋ | 51414/58976 [6:26:26<4:32:02,  2.16s/it]"
          ]
        },
        {
          "output_type": "stream",
          "name": "stdout",
          "text": [
            "Failed to process http://data.gdeltproject.org/gdeltv2/20250325153000.export.CSV.zip: 500 Server Error: Internal Server Error for url: http://data.gdeltproject.org/gdeltv2/20250325153000.export.CSV.zip\n"
          ]
        },
        {
          "output_type": "stream",
          "name": "stderr",
          "text": [
            "Processing files:  87%|████████▋ | 51431/58976 [6:26:49<5:04:08,  2.42s/it]"
          ]
        },
        {
          "output_type": "stream",
          "name": "stdout",
          "text": [
            "Failed to process http://data.gdeltproject.org/gdeltv2/20250325194500.export.CSV.zip: 500 Server Error: Internal Server Error for url: http://data.gdeltproject.org/gdeltv2/20250325194500.export.CSV.zip\n"
          ]
        },
        {
          "output_type": "stream",
          "name": "stderr",
          "text": [
            "Processing files:  87%|████████▋ | 51464/58976 [6:27:23<3:52:17,  1.86s/it]"
          ]
        },
        {
          "output_type": "stream",
          "name": "stdout",
          "text": [
            "Failed to process http://data.gdeltproject.org/gdeltv2/20250326040000.export.CSV.zip: 500 Server Error: Internal Server Error for url: http://data.gdeltproject.org/gdeltv2/20250326040000.export.CSV.zip\n"
          ]
        },
        {
          "output_type": "stream",
          "name": "stderr",
          "text": [
            "Processing files:  87%|████████▋ | 51510/58976 [6:28:11<3:56:27,  1.90s/it]"
          ]
        },
        {
          "output_type": "stream",
          "name": "stdout",
          "text": [
            "Failed to process http://data.gdeltproject.org/gdeltv2/20250326153000.export.CSV.zip: 500 Server Error: Internal Server Error for url: http://data.gdeltproject.org/gdeltv2/20250326153000.export.CSV.zip\n"
          ]
        },
        {
          "output_type": "stream",
          "name": "stderr",
          "text": [
            "Processing files:  87%|████████▋ | 51517/58976 [6:28:22<5:24:12,  2.61s/it]"
          ]
        },
        {
          "output_type": "stream",
          "name": "stdout",
          "text": [
            "Failed to process http://data.gdeltproject.org/gdeltv2/20250326171500.export.CSV.zip: 500 Server Error: Internal Server Error for url: http://data.gdeltproject.org/gdeltv2/20250326171500.export.CSV.zip\n"
          ]
        },
        {
          "output_type": "stream",
          "name": "stderr",
          "text": [
            "Processing files:  88%|████████▊ | 51606/58976 [6:29:34<4:14:06,  2.07s/it]"
          ]
        },
        {
          "output_type": "stream",
          "name": "stdout",
          "text": [
            "Failed to process http://data.gdeltproject.org/gdeltv2/20250327154500.export.CSV.zip: 500 Server Error: Internal Server Error for url: http://data.gdeltproject.org/gdeltv2/20250327154500.export.CSV.zip\n"
          ]
        },
        {
          "output_type": "stream",
          "name": "stderr",
          "text": [
            "Processing files:  88%|████████▊ | 51884/58976 [6:32:13<3:28:25,  1.76s/it]"
          ]
        },
        {
          "output_type": "stream",
          "name": "stdout",
          "text": [
            "Failed to process http://data.gdeltproject.org/gdeltv2/20250330131500.export.CSV.zip: 500 Server Error: Internal Server Error for url: http://data.gdeltproject.org/gdeltv2/20250330131500.export.CSV.zip\n"
          ]
        },
        {
          "output_type": "stream",
          "name": "stderr",
          "text": [
            "Processing files: 100%|██████████| 58976/58976 [7:18:46<00:00,  2.24it/s]\n"
          ]
        }
      ]
    },
    {
      "cell_type": "markdown",
      "source": [
        "### Preprocessing:"
      ],
      "metadata": {
        "id": "SHWATpxnM0nP"
      }
    },
    {
      "cell_type": "code",
      "source": [
        "input_folder = '/content/drive/MyDrive/Miki/GDELT2_Data_post_7th'\n",
        "output_folder = '/content/drive/MyDrive/Miki/GDELT2_Data_post_7th/Preprocessed/Israeli_Interactions'\n",
        "input_list_file = os.path.join(output_folder, 'input_files.txt')\n",
        "processed_log = os.path.join(output_folder, 'processed_files.txt')\n",
        "\n",
        "os.makedirs(output_folder, exist_ok=True)\n",
        "\n",
        "BATCH_SIZE = 100\n",
        "\n",
        "#Create input file list if missing\n",
        "if not os.path.exists(input_list_file):\n",
        "    print(\"Creating static input list...\")\n",
        "    parquet_files = sorted([\n",
        "        os.path.join(input_folder, f)\n",
        "        for f in os.listdir(input_folder)\n",
        "        if f.endswith('.parquet')\n",
        "    ])\n",
        "    with open(input_list_file, 'w') as f:\n",
        "        for path in parquet_files:\n",
        "            f.write(path + '\\n')\n",
        "\n",
        "# Read input + checkpoint files\n",
        "with open(input_list_file, 'r') as f:\n",
        "    parquet_files = [line.strip() for line in f]\n",
        "\n",
        "if os.path.exists(processed_log):\n",
        "    with open(processed_log, 'r') as f:\n",
        "        processed_files = set(f.read().splitlines())\n",
        "else:\n",
        "    processed_files = set()\n",
        "\n",
        "# Process files with filtering\n",
        "file_buffer = []\n",
        "file_counter = 0\n",
        "output_counter = 0\n",
        "\n",
        "for file_path in tqdm(parquet_files, desc=\"Preprocessing GDELT Files\"):\n",
        "    filename = os.path.basename(file_path)\n",
        "\n",
        "    if filename in processed_files:\n",
        "        continue  # Already processed\n",
        "\n",
        "    try:\n",
        "        df = pd.read_parquet(file_path, columns=signif_columns)\n",
        "        filtered_df = df[\n",
        "            df['Actor1Name'].str.lower().isin(ISRAEL_VARIANTS) |\n",
        "            df['Actor2Name'].str.lower().isin(ISRAEL_VARIANTS) | df['Actor1CountryCode'].str.lower().isin(ISRAEL_VARIANTS) | df['Actor2CountryCode'].str.lower().isin(ISRAEL_VARIANTS) |df['ActionGeo_CountryCode'].str.lower().isin(ISRAEL_VARIANTS) | df['ActionGeo_FullName'].str.lower().isin(ISRAEL_VARIANTS)]\n",
        "\n",
        "        if not filtered_df.empty:\n",
        "            file_buffer.append(filtered_df)\n",
        "            file_counter += 1\n",
        "\n",
        "        # Mark file as processed\n",
        "        with open(processed_log, 'a') as f:\n",
        "            f.write(filename + '\\n')\n",
        "        processed_files.add(filename)\n",
        "\n",
        "        # Save in batches\n",
        "        if file_counter >= BATCH_SIZE:\n",
        "            out_path = os.path.join(output_folder, f'israel_filtered_batch_{output_counter}.parquet')\n",
        "            pd.concat(file_buffer, ignore_index=True).to_parquet(out_path)\n",
        "            file_buffer = []\n",
        "            file_counter = 0\n",
        "            output_counter += 1\n",
        "\n",
        "    except Exception as e:\n",
        "        print(f\"[ERROR] Failed processing {filename}: {e}\")\n",
        "\n",
        "# === Save remaining records ===\n",
        "if file_buffer:\n",
        "    out_path = os.path.join(output_folder, f'israel_filtered_batch_{output_counter}.parquet')\n",
        "    pd.concat(file_buffer, ignore_index=True).to_parquet(out_path)\n"
      ],
      "metadata": {
        "colab": {
          "base_uri": "https://localhost:8080/"
        },
        "id": "eFK5lJm6dT3D",
        "outputId": "1179b21a-e202-4a8e-a143-0a12af758f0d"
      },
      "execution_count": null,
      "outputs": [
        {
          "metadata": {
            "tags": null
          },
          "name": "stdout",
          "output_type": "stream",
          "text": [
            "Creating static input list...\n"
          ]
        },
        {
          "output_type": "stream",
          "name": "stderr",
          "text": [
            "Preprocessing GDELT Files: 100%|██████████| 58825/58825 [8:31:10<00:00,  1.92it/s]\n"
          ]
        }
      ]
    },
    {
      "cell_type": "markdown",
      "source": [
        "Merging all parquets to a single one:"
      ],
      "metadata": {
        "id": "fzh6QY1eyVRS"
      }
    },
    {
      "cell_type": "code",
      "execution_count": null,
      "metadata": {
        "colab": {
          "base_uri": "https://localhost:8080/"
        },
        "id": "lW9p1Hr4Fp5l",
        "outputId": "fb3091fc-1a36-4462-9a54-62d679536236"
      },
      "outputs": [
        {
          "output_type": "stream",
          "name": "stdout",
          "text": [
            "Merged 588 parquet files into /content/drive/MyDrive/Miki/GDELT2_Data_post_7th/Preprocessed/Israeli_Interactions/merged_israeli_interactions.parquet\n",
            "Shape of the merged DataFrame: (4815024, 21)\n",
            "Total memory usage: 6359.54 MB\n"
          ]
        }
      ],
      "source": [
        "output_dir = '/content/drive/MyDrive/Miki/GDELT2_Data_post_7th/Preprocessed/Israeli_Interactions'\n",
        "parquet_files = glob.glob(os.path.join(output_dir, '*.parquet'))\n",
        "list_dfs = [pd.read_parquet(f) for f in parquet_files]\n",
        "merged_df = pd.concat(list_dfs, ignore_index=True)\n",
        "\n",
        "# Define the path for the output merged parquet file\n",
        "output_parquet_path = os.path.join(output_dir, 'merged_israeli_interactions.parquet')\n",
        "\n",
        "# Save the merged DataFrame to a single parquet file\n",
        "merged_df.to_parquet(output_parquet_path)\n",
        "\n",
        "print(f\"Merged {len(parquet_files)} parquet files into {output_parquet_path}\")\n",
        "print(f\"Shape of the merged DataFrame: {merged_df.shape}\")\n",
        "total_memory = merged_df.memory_usage(deep=True).sum()\n",
        "print(f\"Total memory usage: {total_memory / (1024 ** 2):.2f} MB\")"
      ]
    },
    {
      "cell_type": "code",
      "source": [
        "merged_df"
      ],
      "metadata": {
        "colab": {
          "base_uri": "https://localhost:8080/"
        },
        "collapsed": true,
        "id": "jU2QgAa10-75",
        "outputId": "b6e7251e-41d3-4340-c895-d7ea1d82cef6"
      },
      "execution_count": null,
      "outputs": [
        {
          "output_type": "execute_result",
          "data": {
            "text/plain": [
              "          SQLDATE Actor1Code     Actor1Name Actor1CountryCode Actor2Code  \\\n",
              "0        20231007       None           None              None     ISRSET   \n",
              "1        20231007        ISR         ISRAEL               ISR       None   \n",
              "2        20231007        ISR         ISRAEL               ISR        BUS   \n",
              "3        20231007        ISR         ISRAEL               ISR     ISRSET   \n",
              "4        20231007     ISRSET         ISRAEL               ISR        ISR   \n",
              "...           ...        ...            ...               ...        ...   \n",
              "4815019  20250612        UAF       MILITANT              None        ISR   \n",
              "4815020  20250612        USA  UNITED STATES               USA        ISR   \n",
              "4815021  20250612     USAGOV         THE US               USA        ISR   \n",
              "4815022  20250612     USAGOV         THE US               USA        ISR   \n",
              "4815023  20250612     USAGOV  US AMBASSADOR               USA        MOS   \n",
              "\n",
              "        Actor2Name Actor2CountryCode IsRootEvent EventCode EventBaseCode  \\\n",
              "0           ISRAEL               ISR           1       190           190   \n",
              "1             None              None           0       129           129   \n",
              "2         PRODUCER              None           0       129           129   \n",
              "3           ISRAEL               ISR           1       193           193   \n",
              "4           ISRAEL               ISR           1       182           182   \n",
              "...            ...               ...         ...       ...           ...   \n",
              "4815019    ISRAELI               ISR           0       015           015   \n",
              "4815020     ISRAEL               ISR           0       114           114   \n",
              "4815021   TEL AVIV               ISR           1       172           172   \n",
              "4815022   TEL AVIV               ISR           1       172           172   \n",
              "4815023     MUSLIM              None           1       020           020   \n",
              "\n",
              "        EventRootCode QuadClass GoldsteinScale NumMentions NumSources  \\\n",
              "0                  19         4          -10.0          12          6   \n",
              "1                  12         3           -5.0           5          1   \n",
              "2                  12         3           -5.0           5          1   \n",
              "3                  19         4          -10.0           4          1   \n",
              "4                  18         4           -9.5          12          6   \n",
              "...               ...       ...            ...         ...        ...   \n",
              "4815019            01         1            0.0          10          1   \n",
              "4815020            11         3           -2.0           4          2   \n",
              "4815021            17         4           -5.0           1          1   \n",
              "4815022            17         4           -5.0           1          1   \n",
              "4815023            02         1            3.0           3          1   \n",
              "\n",
              "        NumArticles            AvgTone  \\\n",
              "0                12  -11.2273361227336   \n",
              "1                 5  -0.81234768480909   \n",
              "2                 5  -0.81234768480909   \n",
              "3                 4  -10.8786610878661   \n",
              "4                12  -11.2273361227336   \n",
              "...             ...                ...   \n",
              "4815019          10  -6.57193605683837   \n",
              "4815020           4  -9.63518192603414   \n",
              "4815021           1  -6.60660660660661   \n",
              "4815022           1  -6.60660660660661   \n",
              "4815023           3   1.61290322580645   \n",
              "\n",
              "                                      ActionGeo_FullName  \\\n",
              "0                                                 Israel   \n",
              "1                            Kyiv, Kyyiv, Misto, Ukraine   \n",
              "2                            Kyiv, Kyyiv, Misto, Ukraine   \n",
              "3                                                 Israel   \n",
              "4                                                 Israel   \n",
              "...                                                  ...   \n",
              "4815019                   Gaza, Israel (general), Israel   \n",
              "4815020                                    United States   \n",
              "4815021                             Tehran, Tehran, Iran   \n",
              "4815022  Washington, District of Columbia, United States   \n",
              "4815023                                           Israel   \n",
              "\n",
              "        ActionGeo_CountryCode       DATEADDED  \\\n",
              "0                          IS  20231007000000   \n",
              "1                          UP  20231007000000   \n",
              "2                          UP  20231007000000   \n",
              "3                          IS  20231007000000   \n",
              "4                          IS  20231007000000   \n",
              "...                       ...             ...   \n",
              "4815019                    IS  20250612111500   \n",
              "4815020                    US  20250612111500   \n",
              "4815021                    IR  20250612111500   \n",
              "4815022                    US  20250612111500   \n",
              "4815023                    IS  20250612111500   \n",
              "\n",
              "                                                 SOURCEURL  \n",
              "0        https://www.iranherald.com/news/273991510/pale...  \n",
              "1        https://www.politico.com/newsletters/national-...  \n",
              "2        https://www.politico.com/newsletters/national-...  \n",
              "3        https://www.bignewsnetwork.com/news/273991510/...  \n",
              "4        https://www.iranherald.com/news/273991510/pale...  \n",
              "...                                                    ...  \n",
              "4815019  https://www.yahoo.com/news/humanitarian-worker...  \n",
              "4815020  https://www.yahoo.com/news/contributor-scars-u...  \n",
              "4815021  https://www.aa.com.tr/en/middle-east/us-embass...  \n",
              "4815022  https://www.aa.com.tr/en/middle-east/us-embass...  \n",
              "4815023  https://article.wn.com/view/2025/06/12/US_amba...  \n",
              "\n",
              "[4815024 rows x 21 columns]"
            ],
            "text/html": [
              "\n",
              "  <div id=\"df-21a87ebe-407b-452a-b804-0ff8d4e1fd2a\" class=\"colab-df-container\">\n",
              "    <div>\n",
              "<style scoped>\n",
              "    .dataframe tbody tr th:only-of-type {\n",
              "        vertical-align: middle;\n",
              "    }\n",
              "\n",
              "    .dataframe tbody tr th {\n",
              "        vertical-align: top;\n",
              "    }\n",
              "\n",
              "    .dataframe thead th {\n",
              "        text-align: right;\n",
              "    }\n",
              "</style>\n",
              "<table border=\"1\" class=\"dataframe\">\n",
              "  <thead>\n",
              "    <tr style=\"text-align: right;\">\n",
              "      <th></th>\n",
              "      <th>SQLDATE</th>\n",
              "      <th>Actor1Code</th>\n",
              "      <th>Actor1Name</th>\n",
              "      <th>Actor1CountryCode</th>\n",
              "      <th>Actor2Code</th>\n",
              "      <th>Actor2Name</th>\n",
              "      <th>Actor2CountryCode</th>\n",
              "      <th>IsRootEvent</th>\n",
              "      <th>EventCode</th>\n",
              "      <th>EventBaseCode</th>\n",
              "      <th>EventRootCode</th>\n",
              "      <th>QuadClass</th>\n",
              "      <th>GoldsteinScale</th>\n",
              "      <th>NumMentions</th>\n",
              "      <th>NumSources</th>\n",
              "      <th>NumArticles</th>\n",
              "      <th>AvgTone</th>\n",
              "      <th>ActionGeo_FullName</th>\n",
              "      <th>ActionGeo_CountryCode</th>\n",
              "      <th>DATEADDED</th>\n",
              "      <th>SOURCEURL</th>\n",
              "    </tr>\n",
              "  </thead>\n",
              "  <tbody>\n",
              "    <tr>\n",
              "      <th>0</th>\n",
              "      <td>20231007</td>\n",
              "      <td>None</td>\n",
              "      <td>None</td>\n",
              "      <td>None</td>\n",
              "      <td>ISRSET</td>\n",
              "      <td>ISRAEL</td>\n",
              "      <td>ISR</td>\n",
              "      <td>1</td>\n",
              "      <td>190</td>\n",
              "      <td>190</td>\n",
              "      <td>19</td>\n",
              "      <td>4</td>\n",
              "      <td>-10.0</td>\n",
              "      <td>12</td>\n",
              "      <td>6</td>\n",
              "      <td>12</td>\n",
              "      <td>-11.2273361227336</td>\n",
              "      <td>Israel</td>\n",
              "      <td>IS</td>\n",
              "      <td>20231007000000</td>\n",
              "      <td>https://www.iranherald.com/news/273991510/pale...</td>\n",
              "    </tr>\n",
              "    <tr>\n",
              "      <th>1</th>\n",
              "      <td>20231007</td>\n",
              "      <td>ISR</td>\n",
              "      <td>ISRAEL</td>\n",
              "      <td>ISR</td>\n",
              "      <td>None</td>\n",
              "      <td>None</td>\n",
              "      <td>None</td>\n",
              "      <td>0</td>\n",
              "      <td>129</td>\n",
              "      <td>129</td>\n",
              "      <td>12</td>\n",
              "      <td>3</td>\n",
              "      <td>-5.0</td>\n",
              "      <td>5</td>\n",
              "      <td>1</td>\n",
              "      <td>5</td>\n",
              "      <td>-0.81234768480909</td>\n",
              "      <td>Kyiv, Kyyiv, Misto, Ukraine</td>\n",
              "      <td>UP</td>\n",
              "      <td>20231007000000</td>\n",
              "      <td>https://www.politico.com/newsletters/national-...</td>\n",
              "    </tr>\n",
              "    <tr>\n",
              "      <th>2</th>\n",
              "      <td>20231007</td>\n",
              "      <td>ISR</td>\n",
              "      <td>ISRAEL</td>\n",
              "      <td>ISR</td>\n",
              "      <td>BUS</td>\n",
              "      <td>PRODUCER</td>\n",
              "      <td>None</td>\n",
              "      <td>0</td>\n",
              "      <td>129</td>\n",
              "      <td>129</td>\n",
              "      <td>12</td>\n",
              "      <td>3</td>\n",
              "      <td>-5.0</td>\n",
              "      <td>5</td>\n",
              "      <td>1</td>\n",
              "      <td>5</td>\n",
              "      <td>-0.81234768480909</td>\n",
              "      <td>Kyiv, Kyyiv, Misto, Ukraine</td>\n",
              "      <td>UP</td>\n",
              "      <td>20231007000000</td>\n",
              "      <td>https://www.politico.com/newsletters/national-...</td>\n",
              "    </tr>\n",
              "    <tr>\n",
              "      <th>3</th>\n",
              "      <td>20231007</td>\n",
              "      <td>ISR</td>\n",
              "      <td>ISRAEL</td>\n",
              "      <td>ISR</td>\n",
              "      <td>ISRSET</td>\n",
              "      <td>ISRAEL</td>\n",
              "      <td>ISR</td>\n",
              "      <td>1</td>\n",
              "      <td>193</td>\n",
              "      <td>193</td>\n",
              "      <td>19</td>\n",
              "      <td>4</td>\n",
              "      <td>-10.0</td>\n",
              "      <td>4</td>\n",
              "      <td>1</td>\n",
              "      <td>4</td>\n",
              "      <td>-10.8786610878661</td>\n",
              "      <td>Israel</td>\n",
              "      <td>IS</td>\n",
              "      <td>20231007000000</td>\n",
              "      <td>https://www.bignewsnetwork.com/news/273991510/...</td>\n",
              "    </tr>\n",
              "    <tr>\n",
              "      <th>4</th>\n",
              "      <td>20231007</td>\n",
              "      <td>ISRSET</td>\n",
              "      <td>ISRAEL</td>\n",
              "      <td>ISR</td>\n",
              "      <td>ISR</td>\n",
              "      <td>ISRAEL</td>\n",
              "      <td>ISR</td>\n",
              "      <td>1</td>\n",
              "      <td>182</td>\n",
              "      <td>182</td>\n",
              "      <td>18</td>\n",
              "      <td>4</td>\n",
              "      <td>-9.5</td>\n",
              "      <td>12</td>\n",
              "      <td>6</td>\n",
              "      <td>12</td>\n",
              "      <td>-11.2273361227336</td>\n",
              "      <td>Israel</td>\n",
              "      <td>IS</td>\n",
              "      <td>20231007000000</td>\n",
              "      <td>https://www.iranherald.com/news/273991510/pale...</td>\n",
              "    </tr>\n",
              "    <tr>\n",
              "      <th>...</th>\n",
              "      <td>...</td>\n",
              "      <td>...</td>\n",
              "      <td>...</td>\n",
              "      <td>...</td>\n",
              "      <td>...</td>\n",
              "      <td>...</td>\n",
              "      <td>...</td>\n",
              "      <td>...</td>\n",
              "      <td>...</td>\n",
              "      <td>...</td>\n",
              "      <td>...</td>\n",
              "      <td>...</td>\n",
              "      <td>...</td>\n",
              "      <td>...</td>\n",
              "      <td>...</td>\n",
              "      <td>...</td>\n",
              "      <td>...</td>\n",
              "      <td>...</td>\n",
              "      <td>...</td>\n",
              "      <td>...</td>\n",
              "      <td>...</td>\n",
              "    </tr>\n",
              "    <tr>\n",
              "      <th>4815019</th>\n",
              "      <td>20250612</td>\n",
              "      <td>UAF</td>\n",
              "      <td>MILITANT</td>\n",
              "      <td>None</td>\n",
              "      <td>ISR</td>\n",
              "      <td>ISRAELI</td>\n",
              "      <td>ISR</td>\n",
              "      <td>0</td>\n",
              "      <td>015</td>\n",
              "      <td>015</td>\n",
              "      <td>01</td>\n",
              "      <td>1</td>\n",
              "      <td>0.0</td>\n",
              "      <td>10</td>\n",
              "      <td>1</td>\n",
              "      <td>10</td>\n",
              "      <td>-6.57193605683837</td>\n",
              "      <td>Gaza, Israel (general), Israel</td>\n",
              "      <td>IS</td>\n",
              "      <td>20250612111500</td>\n",
              "      <td>https://www.yahoo.com/news/humanitarian-worker...</td>\n",
              "    </tr>\n",
              "    <tr>\n",
              "      <th>4815020</th>\n",
              "      <td>20250612</td>\n",
              "      <td>USA</td>\n",
              "      <td>UNITED STATES</td>\n",
              "      <td>USA</td>\n",
              "      <td>ISR</td>\n",
              "      <td>ISRAEL</td>\n",
              "      <td>ISR</td>\n",
              "      <td>0</td>\n",
              "      <td>114</td>\n",
              "      <td>114</td>\n",
              "      <td>11</td>\n",
              "      <td>3</td>\n",
              "      <td>-2.0</td>\n",
              "      <td>4</td>\n",
              "      <td>2</td>\n",
              "      <td>4</td>\n",
              "      <td>-9.63518192603414</td>\n",
              "      <td>United States</td>\n",
              "      <td>US</td>\n",
              "      <td>20250612111500</td>\n",
              "      <td>https://www.yahoo.com/news/contributor-scars-u...</td>\n",
              "    </tr>\n",
              "    <tr>\n",
              "      <th>4815021</th>\n",
              "      <td>20250612</td>\n",
              "      <td>USAGOV</td>\n",
              "      <td>THE US</td>\n",
              "      <td>USA</td>\n",
              "      <td>ISR</td>\n",
              "      <td>TEL AVIV</td>\n",
              "      <td>ISR</td>\n",
              "      <td>1</td>\n",
              "      <td>172</td>\n",
              "      <td>172</td>\n",
              "      <td>17</td>\n",
              "      <td>4</td>\n",
              "      <td>-5.0</td>\n",
              "      <td>1</td>\n",
              "      <td>1</td>\n",
              "      <td>1</td>\n",
              "      <td>-6.60660660660661</td>\n",
              "      <td>Tehran, Tehran, Iran</td>\n",
              "      <td>IR</td>\n",
              "      <td>20250612111500</td>\n",
              "      <td>https://www.aa.com.tr/en/middle-east/us-embass...</td>\n",
              "    </tr>\n",
              "    <tr>\n",
              "      <th>4815022</th>\n",
              "      <td>20250612</td>\n",
              "      <td>USAGOV</td>\n",
              "      <td>THE US</td>\n",
              "      <td>USA</td>\n",
              "      <td>ISR</td>\n",
              "      <td>TEL AVIV</td>\n",
              "      <td>ISR</td>\n",
              "      <td>1</td>\n",
              "      <td>172</td>\n",
              "      <td>172</td>\n",
              "      <td>17</td>\n",
              "      <td>4</td>\n",
              "      <td>-5.0</td>\n",
              "      <td>1</td>\n",
              "      <td>1</td>\n",
              "      <td>1</td>\n",
              "      <td>-6.60660660660661</td>\n",
              "      <td>Washington, District of Columbia, United States</td>\n",
              "      <td>US</td>\n",
              "      <td>20250612111500</td>\n",
              "      <td>https://www.aa.com.tr/en/middle-east/us-embass...</td>\n",
              "    </tr>\n",
              "    <tr>\n",
              "      <th>4815023</th>\n",
              "      <td>20250612</td>\n",
              "      <td>USAGOV</td>\n",
              "      <td>US AMBASSADOR</td>\n",
              "      <td>USA</td>\n",
              "      <td>MOS</td>\n",
              "      <td>MUSLIM</td>\n",
              "      <td>None</td>\n",
              "      <td>1</td>\n",
              "      <td>020</td>\n",
              "      <td>020</td>\n",
              "      <td>02</td>\n",
              "      <td>1</td>\n",
              "      <td>3.0</td>\n",
              "      <td>3</td>\n",
              "      <td>1</td>\n",
              "      <td>3</td>\n",
              "      <td>1.61290322580645</td>\n",
              "      <td>Israel</td>\n",
              "      <td>IS</td>\n",
              "      <td>20250612111500</td>\n",
              "      <td>https://article.wn.com/view/2025/06/12/US_amba...</td>\n",
              "    </tr>\n",
              "  </tbody>\n",
              "</table>\n",
              "<p>4815024 rows × 21 columns</p>\n",
              "</div>\n",
              "    <div class=\"colab-df-buttons\">\n",
              "\n",
              "  <div class=\"colab-df-container\">\n",
              "    <button class=\"colab-df-convert\" onclick=\"convertToInteractive('df-21a87ebe-407b-452a-b804-0ff8d4e1fd2a')\"\n",
              "            title=\"Convert this dataframe to an interactive table.\"\n",
              "            style=\"display:none;\">\n",
              "\n",
              "  <svg xmlns=\"http://www.w3.org/2000/svg\" height=\"24px\" viewBox=\"0 -960 960 960\">\n",
              "    <path d=\"M120-120v-720h720v720H120Zm60-500h600v-160H180v160Zm220 220h160v-160H400v160Zm0 220h160v-160H400v160ZM180-400h160v-160H180v160Zm440 0h160v-160H620v160ZM180-180h160v-160H180v160Zm440 0h160v-160H620v160Z\"/>\n",
              "  </svg>\n",
              "    </button>\n",
              "\n",
              "  <style>\n",
              "    .colab-df-container {\n",
              "      display:flex;\n",
              "      gap: 12px;\n",
              "    }\n",
              "\n",
              "    .colab-df-convert {\n",
              "      background-color: #E8F0FE;\n",
              "      border: none;\n",
              "      border-radius: 50%;\n",
              "      cursor: pointer;\n",
              "      display: none;\n",
              "      fill: #1967D2;\n",
              "      height: 32px;\n",
              "      padding: 0 0 0 0;\n",
              "      width: 32px;\n",
              "    }\n",
              "\n",
              "    .colab-df-convert:hover {\n",
              "      background-color: #E2EBFA;\n",
              "      box-shadow: 0px 1px 2px rgba(60, 64, 67, 0.3), 0px 1px 3px 1px rgba(60, 64, 67, 0.15);\n",
              "      fill: #174EA6;\n",
              "    }\n",
              "\n",
              "    .colab-df-buttons div {\n",
              "      margin-bottom: 4px;\n",
              "    }\n",
              "\n",
              "    [theme=dark] .colab-df-convert {\n",
              "      background-color: #3B4455;\n",
              "      fill: #D2E3FC;\n",
              "    }\n",
              "\n",
              "    [theme=dark] .colab-df-convert:hover {\n",
              "      background-color: #434B5C;\n",
              "      box-shadow: 0px 1px 3px 1px rgba(0, 0, 0, 0.15);\n",
              "      filter: drop-shadow(0px 1px 2px rgba(0, 0, 0, 0.3));\n",
              "      fill: #FFFFFF;\n",
              "    }\n",
              "  </style>\n",
              "\n",
              "    <script>\n",
              "      const buttonEl =\n",
              "        document.querySelector('#df-21a87ebe-407b-452a-b804-0ff8d4e1fd2a button.colab-df-convert');\n",
              "      buttonEl.style.display =\n",
              "        google.colab.kernel.accessAllowed ? 'block' : 'none';\n",
              "\n",
              "      async function convertToInteractive(key) {\n",
              "        const element = document.querySelector('#df-21a87ebe-407b-452a-b804-0ff8d4e1fd2a');\n",
              "        const dataTable =\n",
              "          await google.colab.kernel.invokeFunction('convertToInteractive',\n",
              "                                                    [key], {});\n",
              "        if (!dataTable) return;\n",
              "\n",
              "        const docLinkHtml = 'Like what you see? Visit the ' +\n",
              "          '<a target=\"_blank\" href=https://colab.research.google.com/notebooks/data_table.ipynb>data table notebook</a>'\n",
              "          + ' to learn more about interactive tables.';\n",
              "        element.innerHTML = '';\n",
              "        dataTable['output_type'] = 'display_data';\n",
              "        await google.colab.output.renderOutput(dataTable, element);\n",
              "        const docLink = document.createElement('div');\n",
              "        docLink.innerHTML = docLinkHtml;\n",
              "        element.appendChild(docLink);\n",
              "      }\n",
              "    </script>\n",
              "  </div>\n",
              "\n",
              "\n",
              "    <div id=\"df-c2c52162-1475-4678-807d-262a869f8b80\">\n",
              "      <button class=\"colab-df-quickchart\" onclick=\"quickchart('df-c2c52162-1475-4678-807d-262a869f8b80')\"\n",
              "                title=\"Suggest charts\"\n",
              "                style=\"display:none;\">\n",
              "\n",
              "<svg xmlns=\"http://www.w3.org/2000/svg\" height=\"24px\"viewBox=\"0 0 24 24\"\n",
              "     width=\"24px\">\n",
              "    <g>\n",
              "        <path d=\"M19 3H5c-1.1 0-2 .9-2 2v14c0 1.1.9 2 2 2h14c1.1 0 2-.9 2-2V5c0-1.1-.9-2-2-2zM9 17H7v-7h2v7zm4 0h-2V7h2v10zm4 0h-2v-4h2v4z\"/>\n",
              "    </g>\n",
              "</svg>\n",
              "      </button>\n",
              "\n",
              "<style>\n",
              "  .colab-df-quickchart {\n",
              "      --bg-color: #E8F0FE;\n",
              "      --fill-color: #1967D2;\n",
              "      --hover-bg-color: #E2EBFA;\n",
              "      --hover-fill-color: #174EA6;\n",
              "      --disabled-fill-color: #AAA;\n",
              "      --disabled-bg-color: #DDD;\n",
              "  }\n",
              "\n",
              "  [theme=dark] .colab-df-quickchart {\n",
              "      --bg-color: #3B4455;\n",
              "      --fill-color: #D2E3FC;\n",
              "      --hover-bg-color: #434B5C;\n",
              "      --hover-fill-color: #FFFFFF;\n",
              "      --disabled-bg-color: #3B4455;\n",
              "      --disabled-fill-color: #666;\n",
              "  }\n",
              "\n",
              "  .colab-df-quickchart {\n",
              "    background-color: var(--bg-color);\n",
              "    border: none;\n",
              "    border-radius: 50%;\n",
              "    cursor: pointer;\n",
              "    display: none;\n",
              "    fill: var(--fill-color);\n",
              "    height: 32px;\n",
              "    padding: 0;\n",
              "    width: 32px;\n",
              "  }\n",
              "\n",
              "  .colab-df-quickchart:hover {\n",
              "    background-color: var(--hover-bg-color);\n",
              "    box-shadow: 0 1px 2px rgba(60, 64, 67, 0.3), 0 1px 3px 1px rgba(60, 64, 67, 0.15);\n",
              "    fill: var(--button-hover-fill-color);\n",
              "  }\n",
              "\n",
              "  .colab-df-quickchart-complete:disabled,\n",
              "  .colab-df-quickchart-complete:disabled:hover {\n",
              "    background-color: var(--disabled-bg-color);\n",
              "    fill: var(--disabled-fill-color);\n",
              "    box-shadow: none;\n",
              "  }\n",
              "\n",
              "  .colab-df-spinner {\n",
              "    border: 2px solid var(--fill-color);\n",
              "    border-color: transparent;\n",
              "    border-bottom-color: var(--fill-color);\n",
              "    animation:\n",
              "      spin 1s steps(1) infinite;\n",
              "  }\n",
              "\n",
              "  @keyframes spin {\n",
              "    0% {\n",
              "      border-color: transparent;\n",
              "      border-bottom-color: var(--fill-color);\n",
              "      border-left-color: var(--fill-color);\n",
              "    }\n",
              "    20% {\n",
              "      border-color: transparent;\n",
              "      border-left-color: var(--fill-color);\n",
              "      border-top-color: var(--fill-color);\n",
              "    }\n",
              "    30% {\n",
              "      border-color: transparent;\n",
              "      border-left-color: var(--fill-color);\n",
              "      border-top-color: var(--fill-color);\n",
              "      border-right-color: var(--fill-color);\n",
              "    }\n",
              "    40% {\n",
              "      border-color: transparent;\n",
              "      border-right-color: var(--fill-color);\n",
              "      border-top-color: var(--fill-color);\n",
              "    }\n",
              "    60% {\n",
              "      border-color: transparent;\n",
              "      border-right-color: var(--fill-color);\n",
              "    }\n",
              "    80% {\n",
              "      border-color: transparent;\n",
              "      border-right-color: var(--fill-color);\n",
              "      border-bottom-color: var(--fill-color);\n",
              "    }\n",
              "    90% {\n",
              "      border-color: transparent;\n",
              "      border-bottom-color: var(--fill-color);\n",
              "    }\n",
              "  }\n",
              "</style>\n",
              "\n",
              "      <script>\n",
              "        async function quickchart(key) {\n",
              "          const quickchartButtonEl =\n",
              "            document.querySelector('#' + key + ' button');\n",
              "          quickchartButtonEl.disabled = true;  // To prevent multiple clicks.\n",
              "          quickchartButtonEl.classList.add('colab-df-spinner');\n",
              "          try {\n",
              "            const charts = await google.colab.kernel.invokeFunction(\n",
              "                'suggestCharts', [key], {});\n",
              "          } catch (error) {\n",
              "            console.error('Error during call to suggestCharts:', error);\n",
              "          }\n",
              "          quickchartButtonEl.classList.remove('colab-df-spinner');\n",
              "          quickchartButtonEl.classList.add('colab-df-quickchart-complete');\n",
              "        }\n",
              "        (() => {\n",
              "          let quickchartButtonEl =\n",
              "            document.querySelector('#df-c2c52162-1475-4678-807d-262a869f8b80 button');\n",
              "          quickchartButtonEl.style.display =\n",
              "            google.colab.kernel.accessAllowed ? 'block' : 'none';\n",
              "        })();\n",
              "      </script>\n",
              "    </div>\n",
              "\n",
              "  <div id=\"id_986a8d6d-3035-40a7-9eb9-19ba2db871c3\">\n",
              "    <style>\n",
              "      .colab-df-generate {\n",
              "        background-color: #E8F0FE;\n",
              "        border: none;\n",
              "        border-radius: 50%;\n",
              "        cursor: pointer;\n",
              "        display: none;\n",
              "        fill: #1967D2;\n",
              "        height: 32px;\n",
              "        padding: 0 0 0 0;\n",
              "        width: 32px;\n",
              "      }\n",
              "\n",
              "      .colab-df-generate:hover {\n",
              "        background-color: #E2EBFA;\n",
              "        box-shadow: 0px 1px 2px rgba(60, 64, 67, 0.3), 0px 1px 3px 1px rgba(60, 64, 67, 0.15);\n",
              "        fill: #174EA6;\n",
              "      }\n",
              "\n",
              "      [theme=dark] .colab-df-generate {\n",
              "        background-color: #3B4455;\n",
              "        fill: #D2E3FC;\n",
              "      }\n",
              "\n",
              "      [theme=dark] .colab-df-generate:hover {\n",
              "        background-color: #434B5C;\n",
              "        box-shadow: 0px 1px 3px 1px rgba(0, 0, 0, 0.15);\n",
              "        filter: drop-shadow(0px 1px 2px rgba(0, 0, 0, 0.3));\n",
              "        fill: #FFFFFF;\n",
              "      }\n",
              "    </style>\n",
              "    <button class=\"colab-df-generate\" onclick=\"generateWithVariable('merged_df')\"\n",
              "            title=\"Generate code using this dataframe.\"\n",
              "            style=\"display:none;\">\n",
              "\n",
              "  <svg xmlns=\"http://www.w3.org/2000/svg\" height=\"24px\"viewBox=\"0 0 24 24\"\n",
              "       width=\"24px\">\n",
              "    <path d=\"M7,19H8.4L18.45,9,17,7.55,7,17.6ZM5,21V16.75L18.45,3.32a2,2,0,0,1,2.83,0l1.4,1.43a1.91,1.91,0,0,1,.58,1.4,1.91,1.91,0,0,1-.58,1.4L9.25,21ZM18.45,9,17,7.55Zm-12,3A5.31,5.31,0,0,0,4.9,8.1,5.31,5.31,0,0,0,1,6.5,5.31,5.31,0,0,0,4.9,4.9,5.31,5.31,0,0,0,6.5,1,5.31,5.31,0,0,0,8.1,4.9,5.31,5.31,0,0,0,12,6.5,5.46,5.46,0,0,0,6.5,12Z\"/>\n",
              "  </svg>\n",
              "    </button>\n",
              "    <script>\n",
              "      (() => {\n",
              "      const buttonEl =\n",
              "        document.querySelector('#id_986a8d6d-3035-40a7-9eb9-19ba2db871c3 button.colab-df-generate');\n",
              "      buttonEl.style.display =\n",
              "        google.colab.kernel.accessAllowed ? 'block' : 'none';\n",
              "\n",
              "      buttonEl.onclick = () => {\n",
              "        google.colab.notebook.generateWithVariable('merged_df');\n",
              "      }\n",
              "      })();\n",
              "    </script>\n",
              "  </div>\n",
              "\n",
              "    </div>\n",
              "  </div>\n"
            ],
            "application/vnd.google.colaboratory.intrinsic+json": {
              "type": "dataframe",
              "variable_name": "merged_df"
            }
          },
          "metadata": {},
          "execution_count": 10
        }
      ]
    },
    {
      "cell_type": "code",
      "source": [
        "cameo_code_path = \"/content/drive/MyDrive/Miki/cameocodes.txt\"\n",
        "with open(cameo_code_path, 'r') as f:\n",
        "  cameo_codes_content = f.readlines()\n",
        "cameo_codes_content = [line.strip() for line in cameo_codes_content]"
      ],
      "metadata": {
        "collapsed": true,
        "id": "zOF2xzCqJuoG"
      },
      "execution_count": null,
      "outputs": []
    },
    {
      "cell_type": "code",
      "source": [
        "data = []\n",
        "for line in cameo_codes_content[1:]:\n",
        "    parts = line.split('\\t' if '\\t' in line else '\\\\')\n",
        "    if len(parts) == 2:\n",
        "        code = parts[0].strip()\n",
        "        description = parts[1].strip()\n",
        "        data.append((code, description))\n",
        "    elif len(parts) == 1:\n",
        "        data.append((parts[0].strip(), ''))\n",
        "df_cameo_codes = pd.DataFrame(data, columns=['CAMEO_Code', 'Description'])"
      ],
      "metadata": {
        "id": "Eyvnb1wJLVo8"
      },
      "execution_count": null,
      "outputs": []
    },
    {
      "cell_type": "code",
      "source": [
        "df_cameo_codes['CAMEO_Code'] = df_cameo_codes['CAMEO_Code'].astype(str)\n",
        "df_cameo_codes.to_csv(\"/content/drive/MyDrive/Miki/cameocodes.csv\", index=False)"
      ],
      "metadata": {
        "id": "XNF4DQS7buYz"
      },
      "execution_count": null,
      "outputs": []
    },
    {
      "cell_type": "code",
      "source": [
        "cameo_codes_list = list(df_cameo_codes['CAMEO_Code'].unique())"
      ],
      "metadata": {
        "id": "lD3B-cMzM7c9"
      },
      "execution_count": null,
      "outputs": []
    },
    {
      "cell_type": "markdown",
      "source": [
        "## Joining with CAMEO event descriptions find online"
      ],
      "metadata": {
        "id": "83Pl24AErtVf"
      }
    },
    {
      "cell_type": "code",
      "source": [
        "path = '/content/drive/MyDrive/Miki/GDELT2_Data_post_7th/Preprocessed/Israeli_Interactions/merged_israeli_interactions.parquet'\n",
        "df = dd.read_parquet(path)"
      ],
      "metadata": {
        "id": "RHmtXiDlF0tm",
        "colab": {
          "base_uri": "https://localhost:8080/",
          "height": 159
        },
        "collapsed": true,
        "outputId": "3cfd5e0b-a3a7-42b2-8271-318a730daeca"
      },
      "execution_count": 3,
      "outputs": [
        {
          "output_type": "error",
          "ename": "NameError",
          "evalue": "name 'dd' is not defined",
          "traceback": [
            "\u001b[0;31m---------------------------------------------------------------------------\u001b[0m",
            "\u001b[0;31mNameError\u001b[0m                                 Traceback (most recent call last)",
            "\u001b[0;32m/tmp/ipython-input-1487112703.py\u001b[0m in \u001b[0;36m<cell line: 0>\u001b[0;34m()\u001b[0m\n\u001b[1;32m      1\u001b[0m \u001b[0mpath\u001b[0m \u001b[0;34m=\u001b[0m \u001b[0;34m'/content/drive/MyDrive/Miki/GDELT2_Data_post_7th/Preprocessed/Israeli_Interactions/merged_israeli_interactions.parquet'\u001b[0m\u001b[0;34m\u001b[0m\u001b[0;34m\u001b[0m\u001b[0m\n\u001b[0;32m----> 2\u001b[0;31m \u001b[0mdf\u001b[0m \u001b[0;34m=\u001b[0m \u001b[0mdd\u001b[0m\u001b[0;34m.\u001b[0m\u001b[0mread_parquet\u001b[0m\u001b[0;34m(\u001b[0m\u001b[0mpath\u001b[0m\u001b[0;34m)\u001b[0m\u001b[0;34m\u001b[0m\u001b[0;34m\u001b[0m\u001b[0m\n\u001b[0m",
            "\u001b[0;31mNameError\u001b[0m: name 'dd' is not defined"
          ]
        }
      ]
    },
    {
      "cell_type": "code",
      "source": [
        "cameo_df = pd.read_csv('/content/drive/MyDrive/Miki/cameocodes.csv', dtype={'CAMEO_Code': str})\n",
        "cameo_df.rename(columns={'CAMEO_Code': 'EventBaseCode','Description':'Event Description'}, inplace=True)\n",
        "cameo_df"
      ],
      "metadata": {
        "colab": {
          "base_uri": "https://localhost:8080/"
        },
        "collapsed": true,
        "id": "6IYKTr6Kc7Bt",
        "outputId": "bd54d3c5-6742-4245-e5f6-78b37a637a9c"
      },
      "execution_count": null,
      "outputs": [
        {
          "output_type": "execute_result",
          "data": {
            "text/plain": [
              "    EventBaseCode                                  Event Description\n",
              "0              01                              MAKE PUBLIC STATEMENT\n",
              "1             010                Make statement, not specified below\n",
              "2             011                                    Decline comment\n",
              "3             012                           Make pessimistic comment\n",
              "4             013                            Make optimistic comment\n",
              "..            ...                                                ...\n",
              "305           202                            Engage in mass killings\n",
              "306           203                         Engage in ethnic cleansing\n",
              "307           204  Use weapons of mass destruction, not specified...\n",
              "308          2041   Use chemical, biological, or radiologicalweapons\n",
              "309          2042                           Detonate nuclear weapons\n",
              "\n",
              "[310 rows x 2 columns]"
            ],
            "text/html": [
              "\n",
              "  <div id=\"df-dc8e39f6-a6bf-4f19-8e7a-34e0f08dd7a6\" class=\"colab-df-container\">\n",
              "    <div>\n",
              "<style scoped>\n",
              "    .dataframe tbody tr th:only-of-type {\n",
              "        vertical-align: middle;\n",
              "    }\n",
              "\n",
              "    .dataframe tbody tr th {\n",
              "        vertical-align: top;\n",
              "    }\n",
              "\n",
              "    .dataframe thead th {\n",
              "        text-align: right;\n",
              "    }\n",
              "</style>\n",
              "<table border=\"1\" class=\"dataframe\">\n",
              "  <thead>\n",
              "    <tr style=\"text-align: right;\">\n",
              "      <th></th>\n",
              "      <th>EventBaseCode</th>\n",
              "      <th>Event Description</th>\n",
              "    </tr>\n",
              "  </thead>\n",
              "  <tbody>\n",
              "    <tr>\n",
              "      <th>0</th>\n",
              "      <td>01</td>\n",
              "      <td>MAKE PUBLIC STATEMENT</td>\n",
              "    </tr>\n",
              "    <tr>\n",
              "      <th>1</th>\n",
              "      <td>010</td>\n",
              "      <td>Make statement, not specified below</td>\n",
              "    </tr>\n",
              "    <tr>\n",
              "      <th>2</th>\n",
              "      <td>011</td>\n",
              "      <td>Decline comment</td>\n",
              "    </tr>\n",
              "    <tr>\n",
              "      <th>3</th>\n",
              "      <td>012</td>\n",
              "      <td>Make pessimistic comment</td>\n",
              "    </tr>\n",
              "    <tr>\n",
              "      <th>4</th>\n",
              "      <td>013</td>\n",
              "      <td>Make optimistic comment</td>\n",
              "    </tr>\n",
              "    <tr>\n",
              "      <th>...</th>\n",
              "      <td>...</td>\n",
              "      <td>...</td>\n",
              "    </tr>\n",
              "    <tr>\n",
              "      <th>305</th>\n",
              "      <td>202</td>\n",
              "      <td>Engage in mass killings</td>\n",
              "    </tr>\n",
              "    <tr>\n",
              "      <th>306</th>\n",
              "      <td>203</td>\n",
              "      <td>Engage in ethnic cleansing</td>\n",
              "    </tr>\n",
              "    <tr>\n",
              "      <th>307</th>\n",
              "      <td>204</td>\n",
              "      <td>Use weapons of mass destruction, not specified...</td>\n",
              "    </tr>\n",
              "    <tr>\n",
              "      <th>308</th>\n",
              "      <td>2041</td>\n",
              "      <td>Use chemical, biological, or radiologicalweapons</td>\n",
              "    </tr>\n",
              "    <tr>\n",
              "      <th>309</th>\n",
              "      <td>2042</td>\n",
              "      <td>Detonate nuclear weapons</td>\n",
              "    </tr>\n",
              "  </tbody>\n",
              "</table>\n",
              "<p>310 rows × 2 columns</p>\n",
              "</div>\n",
              "    <div class=\"colab-df-buttons\">\n",
              "\n",
              "  <div class=\"colab-df-container\">\n",
              "    <button class=\"colab-df-convert\" onclick=\"convertToInteractive('df-dc8e39f6-a6bf-4f19-8e7a-34e0f08dd7a6')\"\n",
              "            title=\"Convert this dataframe to an interactive table.\"\n",
              "            style=\"display:none;\">\n",
              "\n",
              "  <svg xmlns=\"http://www.w3.org/2000/svg\" height=\"24px\" viewBox=\"0 -960 960 960\">\n",
              "    <path d=\"M120-120v-720h720v720H120Zm60-500h600v-160H180v160Zm220 220h160v-160H400v160Zm0 220h160v-160H400v160ZM180-400h160v-160H180v160Zm440 0h160v-160H620v160ZM180-180h160v-160H180v160Zm440 0h160v-160H620v160Z\"/>\n",
              "  </svg>\n",
              "    </button>\n",
              "\n",
              "  <style>\n",
              "    .colab-df-container {\n",
              "      display:flex;\n",
              "      gap: 12px;\n",
              "    }\n",
              "\n",
              "    .colab-df-convert {\n",
              "      background-color: #E8F0FE;\n",
              "      border: none;\n",
              "      border-radius: 50%;\n",
              "      cursor: pointer;\n",
              "      display: none;\n",
              "      fill: #1967D2;\n",
              "      height: 32px;\n",
              "      padding: 0 0 0 0;\n",
              "      width: 32px;\n",
              "    }\n",
              "\n",
              "    .colab-df-convert:hover {\n",
              "      background-color: #E2EBFA;\n",
              "      box-shadow: 0px 1px 2px rgba(60, 64, 67, 0.3), 0px 1px 3px 1px rgba(60, 64, 67, 0.15);\n",
              "      fill: #174EA6;\n",
              "    }\n",
              "\n",
              "    .colab-df-buttons div {\n",
              "      margin-bottom: 4px;\n",
              "    }\n",
              "\n",
              "    [theme=dark] .colab-df-convert {\n",
              "      background-color: #3B4455;\n",
              "      fill: #D2E3FC;\n",
              "    }\n",
              "\n",
              "    [theme=dark] .colab-df-convert:hover {\n",
              "      background-color: #434B5C;\n",
              "      box-shadow: 0px 1px 3px 1px rgba(0, 0, 0, 0.15);\n",
              "      filter: drop-shadow(0px 1px 2px rgba(0, 0, 0, 0.3));\n",
              "      fill: #FFFFFF;\n",
              "    }\n",
              "  </style>\n",
              "\n",
              "    <script>\n",
              "      const buttonEl =\n",
              "        document.querySelector('#df-dc8e39f6-a6bf-4f19-8e7a-34e0f08dd7a6 button.colab-df-convert');\n",
              "      buttonEl.style.display =\n",
              "        google.colab.kernel.accessAllowed ? 'block' : 'none';\n",
              "\n",
              "      async function convertToInteractive(key) {\n",
              "        const element = document.querySelector('#df-dc8e39f6-a6bf-4f19-8e7a-34e0f08dd7a6');\n",
              "        const dataTable =\n",
              "          await google.colab.kernel.invokeFunction('convertToInteractive',\n",
              "                                                    [key], {});\n",
              "        if (!dataTable) return;\n",
              "\n",
              "        const docLinkHtml = 'Like what you see? Visit the ' +\n",
              "          '<a target=\"_blank\" href=https://colab.research.google.com/notebooks/data_table.ipynb>data table notebook</a>'\n",
              "          + ' to learn more about interactive tables.';\n",
              "        element.innerHTML = '';\n",
              "        dataTable['output_type'] = 'display_data';\n",
              "        await google.colab.output.renderOutput(dataTable, element);\n",
              "        const docLink = document.createElement('div');\n",
              "        docLink.innerHTML = docLinkHtml;\n",
              "        element.appendChild(docLink);\n",
              "      }\n",
              "    </script>\n",
              "  </div>\n",
              "\n",
              "\n",
              "    <div id=\"df-20473b0c-762d-4f55-85e5-316d3b40307e\">\n",
              "      <button class=\"colab-df-quickchart\" onclick=\"quickchart('df-20473b0c-762d-4f55-85e5-316d3b40307e')\"\n",
              "                title=\"Suggest charts\"\n",
              "                style=\"display:none;\">\n",
              "\n",
              "<svg xmlns=\"http://www.w3.org/2000/svg\" height=\"24px\"viewBox=\"0 0 24 24\"\n",
              "     width=\"24px\">\n",
              "    <g>\n",
              "        <path d=\"M19 3H5c-1.1 0-2 .9-2 2v14c0 1.1.9 2 2 2h14c1.1 0 2-.9 2-2V5c0-1.1-.9-2-2-2zM9 17H7v-7h2v7zm4 0h-2V7h2v10zm4 0h-2v-4h2v4z\"/>\n",
              "    </g>\n",
              "</svg>\n",
              "      </button>\n",
              "\n",
              "<style>\n",
              "  .colab-df-quickchart {\n",
              "      --bg-color: #E8F0FE;\n",
              "      --fill-color: #1967D2;\n",
              "      --hover-bg-color: #E2EBFA;\n",
              "      --hover-fill-color: #174EA6;\n",
              "      --disabled-fill-color: #AAA;\n",
              "      --disabled-bg-color: #DDD;\n",
              "  }\n",
              "\n",
              "  [theme=dark] .colab-df-quickchart {\n",
              "      --bg-color: #3B4455;\n",
              "      --fill-color: #D2E3FC;\n",
              "      --hover-bg-color: #434B5C;\n",
              "      --hover-fill-color: #FFFFFF;\n",
              "      --disabled-bg-color: #3B4455;\n",
              "      --disabled-fill-color: #666;\n",
              "  }\n",
              "\n",
              "  .colab-df-quickchart {\n",
              "    background-color: var(--bg-color);\n",
              "    border: none;\n",
              "    border-radius: 50%;\n",
              "    cursor: pointer;\n",
              "    display: none;\n",
              "    fill: var(--fill-color);\n",
              "    height: 32px;\n",
              "    padding: 0;\n",
              "    width: 32px;\n",
              "  }\n",
              "\n",
              "  .colab-df-quickchart:hover {\n",
              "    background-color: var(--hover-bg-color);\n",
              "    box-shadow: 0 1px 2px rgba(60, 64, 67, 0.3), 0 1px 3px 1px rgba(60, 64, 67, 0.15);\n",
              "    fill: var(--button-hover-fill-color);\n",
              "  }\n",
              "\n",
              "  .colab-df-quickchart-complete:disabled,\n",
              "  .colab-df-quickchart-complete:disabled:hover {\n",
              "    background-color: var(--disabled-bg-color);\n",
              "    fill: var(--disabled-fill-color);\n",
              "    box-shadow: none;\n",
              "  }\n",
              "\n",
              "  .colab-df-spinner {\n",
              "    border: 2px solid var(--fill-color);\n",
              "    border-color: transparent;\n",
              "    border-bottom-color: var(--fill-color);\n",
              "    animation:\n",
              "      spin 1s steps(1) infinite;\n",
              "  }\n",
              "\n",
              "  @keyframes spin {\n",
              "    0% {\n",
              "      border-color: transparent;\n",
              "      border-bottom-color: var(--fill-color);\n",
              "      border-left-color: var(--fill-color);\n",
              "    }\n",
              "    20% {\n",
              "      border-color: transparent;\n",
              "      border-left-color: var(--fill-color);\n",
              "      border-top-color: var(--fill-color);\n",
              "    }\n",
              "    30% {\n",
              "      border-color: transparent;\n",
              "      border-left-color: var(--fill-color);\n",
              "      border-top-color: var(--fill-color);\n",
              "      border-right-color: var(--fill-color);\n",
              "    }\n",
              "    40% {\n",
              "      border-color: transparent;\n",
              "      border-right-color: var(--fill-color);\n",
              "      border-top-color: var(--fill-color);\n",
              "    }\n",
              "    60% {\n",
              "      border-color: transparent;\n",
              "      border-right-color: var(--fill-color);\n",
              "    }\n",
              "    80% {\n",
              "      border-color: transparent;\n",
              "      border-right-color: var(--fill-color);\n",
              "      border-bottom-color: var(--fill-color);\n",
              "    }\n",
              "    90% {\n",
              "      border-color: transparent;\n",
              "      border-bottom-color: var(--fill-color);\n",
              "    }\n",
              "  }\n",
              "</style>\n",
              "\n",
              "      <script>\n",
              "        async function quickchart(key) {\n",
              "          const quickchartButtonEl =\n",
              "            document.querySelector('#' + key + ' button');\n",
              "          quickchartButtonEl.disabled = true;  // To prevent multiple clicks.\n",
              "          quickchartButtonEl.classList.add('colab-df-spinner');\n",
              "          try {\n",
              "            const charts = await google.colab.kernel.invokeFunction(\n",
              "                'suggestCharts', [key], {});\n",
              "          } catch (error) {\n",
              "            console.error('Error during call to suggestCharts:', error);\n",
              "          }\n",
              "          quickchartButtonEl.classList.remove('colab-df-spinner');\n",
              "          quickchartButtonEl.classList.add('colab-df-quickchart-complete');\n",
              "        }\n",
              "        (() => {\n",
              "          let quickchartButtonEl =\n",
              "            document.querySelector('#df-20473b0c-762d-4f55-85e5-316d3b40307e button');\n",
              "          quickchartButtonEl.style.display =\n",
              "            google.colab.kernel.accessAllowed ? 'block' : 'none';\n",
              "        })();\n",
              "      </script>\n",
              "    </div>\n",
              "\n",
              "  <div id=\"id_3d0d25e3-aa3c-45d6-93a4-0c3598ab50f0\">\n",
              "    <style>\n",
              "      .colab-df-generate {\n",
              "        background-color: #E8F0FE;\n",
              "        border: none;\n",
              "        border-radius: 50%;\n",
              "        cursor: pointer;\n",
              "        display: none;\n",
              "        fill: #1967D2;\n",
              "        height: 32px;\n",
              "        padding: 0 0 0 0;\n",
              "        width: 32px;\n",
              "      }\n",
              "\n",
              "      .colab-df-generate:hover {\n",
              "        background-color: #E2EBFA;\n",
              "        box-shadow: 0px 1px 2px rgba(60, 64, 67, 0.3), 0px 1px 3px 1px rgba(60, 64, 67, 0.15);\n",
              "        fill: #174EA6;\n",
              "      }\n",
              "\n",
              "      [theme=dark] .colab-df-generate {\n",
              "        background-color: #3B4455;\n",
              "        fill: #D2E3FC;\n",
              "      }\n",
              "\n",
              "      [theme=dark] .colab-df-generate:hover {\n",
              "        background-color: #434B5C;\n",
              "        box-shadow: 0px 1px 3px 1px rgba(0, 0, 0, 0.15);\n",
              "        filter: drop-shadow(0px 1px 2px rgba(0, 0, 0, 0.3));\n",
              "        fill: #FFFFFF;\n",
              "      }\n",
              "    </style>\n",
              "    <button class=\"colab-df-generate\" onclick=\"generateWithVariable('cameo_df')\"\n",
              "            title=\"Generate code using this dataframe.\"\n",
              "            style=\"display:none;\">\n",
              "\n",
              "  <svg xmlns=\"http://www.w3.org/2000/svg\" height=\"24px\"viewBox=\"0 0 24 24\"\n",
              "       width=\"24px\">\n",
              "    <path d=\"M7,19H8.4L18.45,9,17,7.55,7,17.6ZM5,21V16.75L18.45,3.32a2,2,0,0,1,2.83,0l1.4,1.43a1.91,1.91,0,0,1,.58,1.4,1.91,1.91,0,0,1-.58,1.4L9.25,21ZM18.45,9,17,7.55Zm-12,3A5.31,5.31,0,0,0,4.9,8.1,5.31,5.31,0,0,0,1,6.5,5.31,5.31,0,0,0,4.9,4.9,5.31,5.31,0,0,0,6.5,1,5.31,5.31,0,0,0,8.1,4.9,5.31,5.31,0,0,0,12,6.5,5.46,5.46,0,0,0,6.5,12Z\"/>\n",
              "  </svg>\n",
              "    </button>\n",
              "    <script>\n",
              "      (() => {\n",
              "      const buttonEl =\n",
              "        document.querySelector('#id_3d0d25e3-aa3c-45d6-93a4-0c3598ab50f0 button.colab-df-generate');\n",
              "      buttonEl.style.display =\n",
              "        google.colab.kernel.accessAllowed ? 'block' : 'none';\n",
              "\n",
              "      buttonEl.onclick = () => {\n",
              "        google.colab.notebook.generateWithVariable('cameo_df');\n",
              "      }\n",
              "      })();\n",
              "    </script>\n",
              "  </div>\n",
              "\n",
              "    </div>\n",
              "  </div>\n"
            ],
            "application/vnd.google.colaboratory.intrinsic+json": {
              "type": "dataframe",
              "variable_name": "cameo_df",
              "summary": "{\n  \"name\": \"cameo_df\",\n  \"rows\": 310,\n  \"fields\": [\n    {\n      \"column\": \"EventBaseCode\",\n      \"properties\": {\n        \"dtype\": \"string\",\n        \"num_unique_values\": 310,\n        \"samples\": [\n          \"1832\",\n          \"018\",\n          \"035\"\n        ],\n        \"semantic_type\": \"\",\n        \"description\": \"\"\n      }\n    },\n    {\n      \"column\": \"Event Description\",\n      \"properties\": {\n        \"dtype\": \"string\",\n        \"num_unique_values\": 310,\n        \"samples\": [\n          \"Carry out car bombing\",\n          \"Make empathetic comment\",\n          \"Express intent to yield, not specified below\"\n        ],\n        \"semantic_type\": \"\",\n        \"description\": \"\"\n      }\n    }\n  ]\n}"
            }
          },
          "metadata": {},
          "execution_count": 56
        }
      ]
    },
    {
      "cell_type": "code",
      "source": [
        "df.head()"
      ],
      "metadata": {
        "colab": {
          "base_uri": "https://localhost:8080/",
          "height": 260
        },
        "collapsed": true,
        "id": "mShb0OSoqyTd",
        "outputId": "43ae1323-eeb0-44cc-ef15-d5ed2842c3e3"
      },
      "execution_count": null,
      "outputs": [
        {
          "output_type": "execute_result",
          "data": {
            "text/plain": [
              "    SQLDATE Actor1Code Actor1Name Actor1CountryCode Actor2Code Actor2Name  \\\n",
              "0  20231007       <NA>       <NA>              <NA>     ISRSET     ISRAEL   \n",
              "1  20231007        ISR     ISRAEL               ISR       <NA>       <NA>   \n",
              "2  20231007        ISR     ISRAEL               ISR        BUS   PRODUCER   \n",
              "3  20231007        ISR     ISRAEL               ISR     ISRSET     ISRAEL   \n",
              "4  20231007     ISRSET     ISRAEL               ISR        ISR     ISRAEL   \n",
              "\n",
              "  Actor2CountryCode IsRootEvent EventCode EventBaseCode EventRootCode  \\\n",
              "0               ISR           1       190           190            19   \n",
              "1              <NA>           0       129           129            12   \n",
              "2              <NA>           0       129           129            12   \n",
              "3               ISR           1       193           193            19   \n",
              "4               ISR           1       182           182            18   \n",
              "\n",
              "  QuadClass GoldsteinScale NumMentions NumSources NumArticles  \\\n",
              "0         4          -10.0          12          6          12   \n",
              "1         3           -5.0           5          1           5   \n",
              "2         3           -5.0           5          1           5   \n",
              "3         4          -10.0           4          1           4   \n",
              "4         4           -9.5          12          6          12   \n",
              "\n",
              "             AvgTone           ActionGeo_FullName ActionGeo_CountryCode  \\\n",
              "0  -11.2273361227336                       Israel                    IS   \n",
              "1  -0.81234768480909  Kyiv, Kyyiv, Misto, Ukraine                    UP   \n",
              "2  -0.81234768480909  Kyiv, Kyyiv, Misto, Ukraine                    UP   \n",
              "3  -10.8786610878661                       Israel                    IS   \n",
              "4  -11.2273361227336                       Israel                    IS   \n",
              "\n",
              "        DATEADDED                                          SOURCEURL  \n",
              "0  20231007000000  https://www.iranherald.com/news/273991510/pale...  \n",
              "1  20231007000000  https://www.politico.com/newsletters/national-...  \n",
              "2  20231007000000  https://www.politico.com/newsletters/national-...  \n",
              "3  20231007000000  https://www.bignewsnetwork.com/news/273991510/...  \n",
              "4  20231007000000  https://www.iranherald.com/news/273991510/pale...  "
            ],
            "text/html": [
              "\n",
              "  <div id=\"df-39c4d43d-6696-44e7-90b7-bd2c97fbd13b\" class=\"colab-df-container\">\n",
              "    <div>\n",
              "<style scoped>\n",
              "    .dataframe tbody tr th:only-of-type {\n",
              "        vertical-align: middle;\n",
              "    }\n",
              "\n",
              "    .dataframe tbody tr th {\n",
              "        vertical-align: top;\n",
              "    }\n",
              "\n",
              "    .dataframe thead th {\n",
              "        text-align: right;\n",
              "    }\n",
              "</style>\n",
              "<table border=\"1\" class=\"dataframe\">\n",
              "  <thead>\n",
              "    <tr style=\"text-align: right;\">\n",
              "      <th></th>\n",
              "      <th>SQLDATE</th>\n",
              "      <th>Actor1Code</th>\n",
              "      <th>Actor1Name</th>\n",
              "      <th>Actor1CountryCode</th>\n",
              "      <th>Actor2Code</th>\n",
              "      <th>Actor2Name</th>\n",
              "      <th>Actor2CountryCode</th>\n",
              "      <th>IsRootEvent</th>\n",
              "      <th>EventCode</th>\n",
              "      <th>EventBaseCode</th>\n",
              "      <th>EventRootCode</th>\n",
              "      <th>QuadClass</th>\n",
              "      <th>GoldsteinScale</th>\n",
              "      <th>NumMentions</th>\n",
              "      <th>NumSources</th>\n",
              "      <th>NumArticles</th>\n",
              "      <th>AvgTone</th>\n",
              "      <th>ActionGeo_FullName</th>\n",
              "      <th>ActionGeo_CountryCode</th>\n",
              "      <th>DATEADDED</th>\n",
              "      <th>SOURCEURL</th>\n",
              "    </tr>\n",
              "  </thead>\n",
              "  <tbody>\n",
              "    <tr>\n",
              "      <th>0</th>\n",
              "      <td>20231007</td>\n",
              "      <td>&lt;NA&gt;</td>\n",
              "      <td>&lt;NA&gt;</td>\n",
              "      <td>&lt;NA&gt;</td>\n",
              "      <td>ISRSET</td>\n",
              "      <td>ISRAEL</td>\n",
              "      <td>ISR</td>\n",
              "      <td>1</td>\n",
              "      <td>190</td>\n",
              "      <td>190</td>\n",
              "      <td>19</td>\n",
              "      <td>4</td>\n",
              "      <td>-10.0</td>\n",
              "      <td>12</td>\n",
              "      <td>6</td>\n",
              "      <td>12</td>\n",
              "      <td>-11.2273361227336</td>\n",
              "      <td>Israel</td>\n",
              "      <td>IS</td>\n",
              "      <td>20231007000000</td>\n",
              "      <td>https://www.iranherald.com/news/273991510/pale...</td>\n",
              "    </tr>\n",
              "    <tr>\n",
              "      <th>1</th>\n",
              "      <td>20231007</td>\n",
              "      <td>ISR</td>\n",
              "      <td>ISRAEL</td>\n",
              "      <td>ISR</td>\n",
              "      <td>&lt;NA&gt;</td>\n",
              "      <td>&lt;NA&gt;</td>\n",
              "      <td>&lt;NA&gt;</td>\n",
              "      <td>0</td>\n",
              "      <td>129</td>\n",
              "      <td>129</td>\n",
              "      <td>12</td>\n",
              "      <td>3</td>\n",
              "      <td>-5.0</td>\n",
              "      <td>5</td>\n",
              "      <td>1</td>\n",
              "      <td>5</td>\n",
              "      <td>-0.81234768480909</td>\n",
              "      <td>Kyiv, Kyyiv, Misto, Ukraine</td>\n",
              "      <td>UP</td>\n",
              "      <td>20231007000000</td>\n",
              "      <td>https://www.politico.com/newsletters/national-...</td>\n",
              "    </tr>\n",
              "    <tr>\n",
              "      <th>2</th>\n",
              "      <td>20231007</td>\n",
              "      <td>ISR</td>\n",
              "      <td>ISRAEL</td>\n",
              "      <td>ISR</td>\n",
              "      <td>BUS</td>\n",
              "      <td>PRODUCER</td>\n",
              "      <td>&lt;NA&gt;</td>\n",
              "      <td>0</td>\n",
              "      <td>129</td>\n",
              "      <td>129</td>\n",
              "      <td>12</td>\n",
              "      <td>3</td>\n",
              "      <td>-5.0</td>\n",
              "      <td>5</td>\n",
              "      <td>1</td>\n",
              "      <td>5</td>\n",
              "      <td>-0.81234768480909</td>\n",
              "      <td>Kyiv, Kyyiv, Misto, Ukraine</td>\n",
              "      <td>UP</td>\n",
              "      <td>20231007000000</td>\n",
              "      <td>https://www.politico.com/newsletters/national-...</td>\n",
              "    </tr>\n",
              "    <tr>\n",
              "      <th>3</th>\n",
              "      <td>20231007</td>\n",
              "      <td>ISR</td>\n",
              "      <td>ISRAEL</td>\n",
              "      <td>ISR</td>\n",
              "      <td>ISRSET</td>\n",
              "      <td>ISRAEL</td>\n",
              "      <td>ISR</td>\n",
              "      <td>1</td>\n",
              "      <td>193</td>\n",
              "      <td>193</td>\n",
              "      <td>19</td>\n",
              "      <td>4</td>\n",
              "      <td>-10.0</td>\n",
              "      <td>4</td>\n",
              "      <td>1</td>\n",
              "      <td>4</td>\n",
              "      <td>-10.8786610878661</td>\n",
              "      <td>Israel</td>\n",
              "      <td>IS</td>\n",
              "      <td>20231007000000</td>\n",
              "      <td>https://www.bignewsnetwork.com/news/273991510/...</td>\n",
              "    </tr>\n",
              "    <tr>\n",
              "      <th>4</th>\n",
              "      <td>20231007</td>\n",
              "      <td>ISRSET</td>\n",
              "      <td>ISRAEL</td>\n",
              "      <td>ISR</td>\n",
              "      <td>ISR</td>\n",
              "      <td>ISRAEL</td>\n",
              "      <td>ISR</td>\n",
              "      <td>1</td>\n",
              "      <td>182</td>\n",
              "      <td>182</td>\n",
              "      <td>18</td>\n",
              "      <td>4</td>\n",
              "      <td>-9.5</td>\n",
              "      <td>12</td>\n",
              "      <td>6</td>\n",
              "      <td>12</td>\n",
              "      <td>-11.2273361227336</td>\n",
              "      <td>Israel</td>\n",
              "      <td>IS</td>\n",
              "      <td>20231007000000</td>\n",
              "      <td>https://www.iranherald.com/news/273991510/pale...</td>\n",
              "    </tr>\n",
              "  </tbody>\n",
              "</table>\n",
              "</div>\n",
              "    <div class=\"colab-df-buttons\">\n",
              "\n",
              "  <div class=\"colab-df-container\">\n",
              "    <button class=\"colab-df-convert\" onclick=\"convertToInteractive('df-39c4d43d-6696-44e7-90b7-bd2c97fbd13b')\"\n",
              "            title=\"Convert this dataframe to an interactive table.\"\n",
              "            style=\"display:none;\">\n",
              "\n",
              "  <svg xmlns=\"http://www.w3.org/2000/svg\" height=\"24px\" viewBox=\"0 -960 960 960\">\n",
              "    <path d=\"M120-120v-720h720v720H120Zm60-500h600v-160H180v160Zm220 220h160v-160H400v160Zm0 220h160v-160H400v160ZM180-400h160v-160H180v160Zm440 0h160v-160H620v160ZM180-180h160v-160H180v160Zm440 0h160v-160H620v160Z\"/>\n",
              "  </svg>\n",
              "    </button>\n",
              "\n",
              "  <style>\n",
              "    .colab-df-container {\n",
              "      display:flex;\n",
              "      gap: 12px;\n",
              "    }\n",
              "\n",
              "    .colab-df-convert {\n",
              "      background-color: #E8F0FE;\n",
              "      border: none;\n",
              "      border-radius: 50%;\n",
              "      cursor: pointer;\n",
              "      display: none;\n",
              "      fill: #1967D2;\n",
              "      height: 32px;\n",
              "      padding: 0 0 0 0;\n",
              "      width: 32px;\n",
              "    }\n",
              "\n",
              "    .colab-df-convert:hover {\n",
              "      background-color: #E2EBFA;\n",
              "      box-shadow: 0px 1px 2px rgba(60, 64, 67, 0.3), 0px 1px 3px 1px rgba(60, 64, 67, 0.15);\n",
              "      fill: #174EA6;\n",
              "    }\n",
              "\n",
              "    .colab-df-buttons div {\n",
              "      margin-bottom: 4px;\n",
              "    }\n",
              "\n",
              "    [theme=dark] .colab-df-convert {\n",
              "      background-color: #3B4455;\n",
              "      fill: #D2E3FC;\n",
              "    }\n",
              "\n",
              "    [theme=dark] .colab-df-convert:hover {\n",
              "      background-color: #434B5C;\n",
              "      box-shadow: 0px 1px 3px 1px rgba(0, 0, 0, 0.15);\n",
              "      filter: drop-shadow(0px 1px 2px rgba(0, 0, 0, 0.3));\n",
              "      fill: #FFFFFF;\n",
              "    }\n",
              "  </style>\n",
              "\n",
              "    <script>\n",
              "      const buttonEl =\n",
              "        document.querySelector('#df-39c4d43d-6696-44e7-90b7-bd2c97fbd13b button.colab-df-convert');\n",
              "      buttonEl.style.display =\n",
              "        google.colab.kernel.accessAllowed ? 'block' : 'none';\n",
              "\n",
              "      async function convertToInteractive(key) {\n",
              "        const element = document.querySelector('#df-39c4d43d-6696-44e7-90b7-bd2c97fbd13b');\n",
              "        const dataTable =\n",
              "          await google.colab.kernel.invokeFunction('convertToInteractive',\n",
              "                                                    [key], {});\n",
              "        if (!dataTable) return;\n",
              "\n",
              "        const docLinkHtml = 'Like what you see? Visit the ' +\n",
              "          '<a target=\"_blank\" href=https://colab.research.google.com/notebooks/data_table.ipynb>data table notebook</a>'\n",
              "          + ' to learn more about interactive tables.';\n",
              "        element.innerHTML = '';\n",
              "        dataTable['output_type'] = 'display_data';\n",
              "        await google.colab.output.renderOutput(dataTable, element);\n",
              "        const docLink = document.createElement('div');\n",
              "        docLink.innerHTML = docLinkHtml;\n",
              "        element.appendChild(docLink);\n",
              "      }\n",
              "    </script>\n",
              "  </div>\n",
              "\n",
              "\n",
              "    <div id=\"df-12edfe38-40d4-4f93-ae69-6708af0c1229\">\n",
              "      <button class=\"colab-df-quickchart\" onclick=\"quickchart('df-12edfe38-40d4-4f93-ae69-6708af0c1229')\"\n",
              "                title=\"Suggest charts\"\n",
              "                style=\"display:none;\">\n",
              "\n",
              "<svg xmlns=\"http://www.w3.org/2000/svg\" height=\"24px\"viewBox=\"0 0 24 24\"\n",
              "     width=\"24px\">\n",
              "    <g>\n",
              "        <path d=\"M19 3H5c-1.1 0-2 .9-2 2v14c0 1.1.9 2 2 2h14c1.1 0 2-.9 2-2V5c0-1.1-.9-2-2-2zM9 17H7v-7h2v7zm4 0h-2V7h2v10zm4 0h-2v-4h2v4z\"/>\n",
              "    </g>\n",
              "</svg>\n",
              "      </button>\n",
              "\n",
              "<style>\n",
              "  .colab-df-quickchart {\n",
              "      --bg-color: #E8F0FE;\n",
              "      --fill-color: #1967D2;\n",
              "      --hover-bg-color: #E2EBFA;\n",
              "      --hover-fill-color: #174EA6;\n",
              "      --disabled-fill-color: #AAA;\n",
              "      --disabled-bg-color: #DDD;\n",
              "  }\n",
              "\n",
              "  [theme=dark] .colab-df-quickchart {\n",
              "      --bg-color: #3B4455;\n",
              "      --fill-color: #D2E3FC;\n",
              "      --hover-bg-color: #434B5C;\n",
              "      --hover-fill-color: #FFFFFF;\n",
              "      --disabled-bg-color: #3B4455;\n",
              "      --disabled-fill-color: #666;\n",
              "  }\n",
              "\n",
              "  .colab-df-quickchart {\n",
              "    background-color: var(--bg-color);\n",
              "    border: none;\n",
              "    border-radius: 50%;\n",
              "    cursor: pointer;\n",
              "    display: none;\n",
              "    fill: var(--fill-color);\n",
              "    height: 32px;\n",
              "    padding: 0;\n",
              "    width: 32px;\n",
              "  }\n",
              "\n",
              "  .colab-df-quickchart:hover {\n",
              "    background-color: var(--hover-bg-color);\n",
              "    box-shadow: 0 1px 2px rgba(60, 64, 67, 0.3), 0 1px 3px 1px rgba(60, 64, 67, 0.15);\n",
              "    fill: var(--button-hover-fill-color);\n",
              "  }\n",
              "\n",
              "  .colab-df-quickchart-complete:disabled,\n",
              "  .colab-df-quickchart-complete:disabled:hover {\n",
              "    background-color: var(--disabled-bg-color);\n",
              "    fill: var(--disabled-fill-color);\n",
              "    box-shadow: none;\n",
              "  }\n",
              "\n",
              "  .colab-df-spinner {\n",
              "    border: 2px solid var(--fill-color);\n",
              "    border-color: transparent;\n",
              "    border-bottom-color: var(--fill-color);\n",
              "    animation:\n",
              "      spin 1s steps(1) infinite;\n",
              "  }\n",
              "\n",
              "  @keyframes spin {\n",
              "    0% {\n",
              "      border-color: transparent;\n",
              "      border-bottom-color: var(--fill-color);\n",
              "      border-left-color: var(--fill-color);\n",
              "    }\n",
              "    20% {\n",
              "      border-color: transparent;\n",
              "      border-left-color: var(--fill-color);\n",
              "      border-top-color: var(--fill-color);\n",
              "    }\n",
              "    30% {\n",
              "      border-color: transparent;\n",
              "      border-left-color: var(--fill-color);\n",
              "      border-top-color: var(--fill-color);\n",
              "      border-right-color: var(--fill-color);\n",
              "    }\n",
              "    40% {\n",
              "      border-color: transparent;\n",
              "      border-right-color: var(--fill-color);\n",
              "      border-top-color: var(--fill-color);\n",
              "    }\n",
              "    60% {\n",
              "      border-color: transparent;\n",
              "      border-right-color: var(--fill-color);\n",
              "    }\n",
              "    80% {\n",
              "      border-color: transparent;\n",
              "      border-right-color: var(--fill-color);\n",
              "      border-bottom-color: var(--fill-color);\n",
              "    }\n",
              "    90% {\n",
              "      border-color: transparent;\n",
              "      border-bottom-color: var(--fill-color);\n",
              "    }\n",
              "  }\n",
              "</style>\n",
              "\n",
              "      <script>\n",
              "        async function quickchart(key) {\n",
              "          const quickchartButtonEl =\n",
              "            document.querySelector('#' + key + ' button');\n",
              "          quickchartButtonEl.disabled = true;  // To prevent multiple clicks.\n",
              "          quickchartButtonEl.classList.add('colab-df-spinner');\n",
              "          try {\n",
              "            const charts = await google.colab.kernel.invokeFunction(\n",
              "                'suggestCharts', [key], {});\n",
              "          } catch (error) {\n",
              "            console.error('Error during call to suggestCharts:', error);\n",
              "          }\n",
              "          quickchartButtonEl.classList.remove('colab-df-spinner');\n",
              "          quickchartButtonEl.classList.add('colab-df-quickchart-complete');\n",
              "        }\n",
              "        (() => {\n",
              "          let quickchartButtonEl =\n",
              "            document.querySelector('#df-12edfe38-40d4-4f93-ae69-6708af0c1229 button');\n",
              "          quickchartButtonEl.style.display =\n",
              "            google.colab.kernel.accessAllowed ? 'block' : 'none';\n",
              "        })();\n",
              "      </script>\n",
              "    </div>\n",
              "\n",
              "    </div>\n",
              "  </div>\n"
            ],
            "application/vnd.google.colaboratory.intrinsic+json": {
              "type": "dataframe"
            }
          },
          "metadata": {},
          "execution_count": 67
        }
      ]
    },
    {
      "cell_type": "code",
      "source": [
        "# Function to join each partition\n",
        "def join_partition(partition, small_df):\n",
        "    result = partition.merge(cameo_df, how='left', on='EventBaseCode')\n",
        "    return result\n",
        "# Infer meta (required by Dask to know output schema)\n",
        "meta = join_partition(df._meta, cameo_df)\n",
        "# Perform broadcast join\n",
        "joined_ddf = df.map_partitions(join_partition, cameo_df, meta=meta)\n",
        "\n",
        "joined_ddf = joined_ddf.repartition(npartitions=1)\n",
        "joined_ddf.to_parquet('/content/drive/MyDrive/Miki/israeli_interactions_post_7th_w_cameo.parquet', overwrite=True)"
      ],
      "metadata": {
        "id": "XXPfE78vXlTl"
      },
      "execution_count": null,
      "outputs": []
    }
  ],
  "metadata": {
    "colab": {
      "collapsed_sections": [
        "fW196ROy81Zo",
        "dGS_0S169Sb0",
        "83Pl24AErtVf",
        "TucTF4WafyUl",
        "0-r3Bo3f9OJN"
      ],
      "provenance": []
    },
    "kernelspec": {
      "display_name": "Python 3",
      "name": "python3"
    },
    "language_info": {
      "name": "python"
    }
  },
  "nbformat": 4,
  "nbformat_minor": 0
}